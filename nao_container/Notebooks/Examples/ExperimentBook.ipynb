{
 "cells": [
  {
   "cell_type": "markdown",
   "metadata": {},
   "source": [
    "# Erste Schritte mit NAO in Python"
   ]
  },
  {
   "cell_type": "markdown",
   "metadata": {},
   "source": [
    "NAOqi ist die Software des Roboters, die zu dessen Programmierung verwendet wird.  \n",
    "Das NAOqi Framework ist die Grundlage für die Kommunikation zwischen Modulen und fungiert als sogenannter „Broker“, der es ermöglicht, Module zu finden."
   ]
  },
  {
   "cell_type": "markdown",
   "metadata": {},
   "source": [
    "Die NAOqi Software ist bereits vorinstalliert. \n",
    "Es ist aber noch nötig, dem Programm zu sagen, dass auf die dort vorhandenen Module zugegriffen werden soll. "
   ]
  },
  {
   "cell_type": "code",
   "execution_count": 1,
   "metadata": {},
   "outputs": [],
   "source": [
    "from naoqi import ALProxy"
   ]
  },
  {
   "cell_type": "markdown",
   "metadata": {},
   "source": [
    "Zur Erinnerung:  \n",
    "  \n",
    "Der Aufbau für den Befehl, mit dem über ALProxy auf die Module zugegriffen wird, sieht folgendermaßen aus:  \n",
    "\n",
    "**ALProxy(Modulname, IP-Adresse, Port)**  \n"
   ]
  },
  {
   "cell_type": "markdown",
   "metadata": {},
   "source": [
    "## Variablen vergeben"
   ]
  },
  {
   "cell_type": "markdown",
   "metadata": {},
   "source": [
    "Damit nicht bei jedem Aufruf erneut alle Daten eingegeben werden müssen, ist es sinnvoll, gleich zu Beginn ein paar Variablen festzulegen: "
   ]
  },
  {
   "cell_type": "code",
   "execution_count": 2,
   "metadata": {},
   "outputs": [],
   "source": [
    "# WAS? -> Modulname\n",
    "tts = 'ALTextToSpeech'"
   ]
  },
  {
   "cell_type": "code",
   "execution_count": 3,
   "metadata": {},
   "outputs": [],
   "source": [
    "# WAS? -> Modulname\n",
    "rps = 'ALRobotPosture'"
   ]
  },
  {
   "cell_type": "code",
   "execution_count": null,
   "metadata": {},
   "outputs": [],
   "source": []
  },
  {
   "cell_type": "code",
   "execution_count": 4,
   "metadata": {},
   "outputs": [],
   "source": [
    "# WER? -> NAO-Adresse\n",
    "NAOIP = '192.168.8.102'     # IP-Adresse bei Bedarf erneut abrufen und ggf. korrigieren  "
   ]
  },
  {
   "cell_type": "code",
   "execution_count": 5,
   "metadata": {},
   "outputs": [],
   "source": [
    "# WIE? -> Netzwerk-Port\n",
    "PORT = 9559"
   ]
  },
  {
   "cell_type": "markdown",
   "metadata": {},
   "source": [
    "Damit sind die drei Parameter \"Modulname\", \"IP-Adresse\" und \"Port\" einem Namen zugewiesen.   \n",
    "\n",
    "Auch für den Broker als Ganzen kann nun eine Variable vergeben werden:   "
   ]
  },
  {
   "cell_type": "code",
   "execution_count": 6,
   "metadata": {},
   "outputs": [],
   "source": [
    "text = ALProxy(tts, NAOIP, PORT)"
   ]
  },
  {
   "cell_type": "code",
   "execution_count": 7,
   "metadata": {},
   "outputs": [],
   "source": [
    "ropo = ALProxy(rps, NAOIP, PORT)"
   ]
  },
  {
   "cell_type": "code",
   "execution_count": 8,
   "metadata": {},
   "outputs": [],
   "source": [
    "mtn = \"ALMotion\"\n",
    "moto = ALProxy(mtn, NAOIP, PORT)"
   ]
  },
  {
   "cell_type": "code",
   "execution_count": 9,
   "metadata": {},
   "outputs": [],
   "source": [
    "beh = \"ALBehaviorManager\"\n",
    "beha = ALProxy(beh, NAOIP, PORT)"
   ]
  },
  {
   "cell_type": "code",
   "execution_count": 10,
   "metadata": {},
   "outputs": [
    {
     "name": "stdout",
     "output_type": "stream",
     "text": [
      "['Crouch', 'LyingBack', 'LyingBelly', 'Sit', 'SitRelax', 'Stand', 'StandInit', 'StandZero']\n"
     ]
    }
   ],
   "source": [
    "postlist = ropo.getPostureList()\n",
    "print(postlist)"
   ]
  },
  {
   "cell_type": "code",
   "execution_count": 11,
   "metadata": {},
   "outputs": [],
   "source": [
    "asp = \"ALAnimatedSpeech\"\n",
    "ansp = ALProxy(asp, NAOIP, PORT)"
   ]
  },
  {
   "cell_type": "code",
   "execution_count": 17,
   "metadata": {},
   "outputs": [
    {
     "data": {
      "text/plain": [
       "True"
      ]
     },
     "execution_count": 17,
     "metadata": {},
     "output_type": "execute_result"
    }
   ],
   "source": [
    "ropo.goToPosture(\"Stand\", 3)"
   ]
  },
  {
   "cell_type": "code",
   "execution_count": 65,
   "metadata": {},
   "outputs": [
    {
     "data": {
      "text/plain": [
       "True"
      ]
     },
     "execution_count": 65,
     "metadata": {},
     "output_type": "execute_result"
    }
   ],
   "source": [
    "ropo.goToPosture(\"Sit\", 2.5)"
   ]
  },
  {
   "cell_type": "markdown",
   "metadata": {},
   "source": [
    "## Methoden aufrufen"
   ]
  },
  {
   "cell_type": "markdown",
   "metadata": {},
   "source": [
    "Wären vorab für den Textmodul-Broker und die einzelnen Parameter keine Variablen vergeben worden, würde der Befehl für die Methode \"say\", mit der NAO \"Hello\" sagen soll, nun so aussehen:      \n",
    "\n",
    "**ALProxy('ALTextToSpeech', '10.203.13.211', 9559).say(\"Hello!\")**.    \n",
    "\n",
    "Stattdessen kann derselbe Befehl kurz und einfach so dargestellt werden: "
   ]
  },
  {
   "cell_type": "code",
   "execution_count": null,
   "metadata": {},
   "outputs": [],
   "source": [
    "text.setParameter(\"pitchShift\", 0.6)\n",
    "text.setParameter(\"speed\", 60)\n",
    "text.say(\"I'll be back\")"
   ]
  },
  {
   "cell_type": "markdown",
   "metadata": {},
   "source": [
    "Soll NAO beispielsweise bestimmte Texte immer wieder abrufen können, ist es auch möglich, für diese Texte Kürzel (also Variablen) festzulegen, z.B.:"
   ]
  },
  {
   "cell_type": "code",
   "execution_count": null,
   "metadata": {},
   "outputs": [],
   "source": [
    "mandela = \"Nelson Mandela once said: The greatest glory in living lies not in never falling, but in rising every time we fall.\"\n",
    "disney = \"Walt Disney once said: The way to get started is to quit talking and begin doing.\"\n",
    "mead = \"Margret Mead once said: Always remember that you are absolutely unique. Just like everyone else.\""
   ]
  },
  {
   "cell_type": "markdown",
   "metadata": {},
   "source": [
    "Möchte man NAO nun eines dieser Zitate aufsagen lassen, reicht der folgende Befehl:"
   ]
  },
  {
   "cell_type": "markdown",
   "metadata": {},
   "source": [
    "**Wichtig!**   \n",
    "Variablen werden ohne Anführungszeichen in den Methodenklammern übergeben.   \n",
    "\n",
    "Mit Anführungszeichen liest NAO den Befehl als Aufforderung, den Text darin 1:1 wiederzugeben (wie bei der bekannten Schreibweise der direkten Anrede)."
   ]
  },
  {
   "cell_type": "markdown",
   "metadata": {},
   "source": [
    "---"
   ]
  },
  {
   "cell_type": "code",
   "execution_count": null,
   "metadata": {},
   "outputs": [],
   "source": [
    "\n",
    "text.setParameter(\"pitchShift\", 1.5)"
   ]
  },
  {
   "cell_type": "code",
   "execution_count": null,
   "metadata": {},
   "outputs": [],
   "source": [
    "text.setParameter(\"speed\", 50)"
   ]
  },
  {
   "cell_type": "code",
   "execution_count": null,
   "metadata": {},
   "outputs": [],
   "source": [
    "text.setVolume(0.1)"
   ]
  },
  {
   "cell_type": "code",
   "execution_count": null,
   "metadata": {},
   "outputs": [],
   "source": [
    "text.say(mead)"
   ]
  },
  {
   "cell_type": "code",
   "execution_count": null,
   "metadata": {},
   "outputs": [
    {
     "data": {
      "text/plain": [
       "True"
      ]
     },
     "execution_count": 24,
     "metadata": {},
     "output_type": "execute_result"
    }
   ],
   "source": [
    "moto.wakeUp()"
   ]
  },
  {
   "cell_type": "code",
   "execution_count": null,
   "metadata": {},
   "outputs": [
    {
     "data": {
      "text/plain": [
       "False"
      ]
     },
     "execution_count": 25,
     "metadata": {},
     "output_type": "execute_result"
    }
   ],
   "source": [
    "moto.stopMove()"
   ]
  },
  {
   "cell_type": "code",
   "execution_count": null,
   "metadata": {},
   "outputs": [],
   "source": [
    "moto.rest()"
   ]
  },
  {
   "cell_type": "code",
   "execution_count": null,
   "metadata": {},
   "outputs": [],
   "source": [
    "import random"
   ]
  },
  {
   "cell_type": "code",
   "execution_count": null,
   "metadata": {},
   "outputs": [],
   "source": [
    "anzahl = 10\n",
    "bev = list()\n",
    "added_bev = list()\n",
    "\n",
    "ropo.goToPosture(\"Sit\", 2.5)\n",
    "\n",
    "for program in beha.getInstalledBehaviors(): \n",
    "    if r\"/Sit/\" in program:\n",
    "        temp = program.split(r\"/\")[-1]\n",
    "        if temp.split(\"_\")[0] not in added_bev:\n",
    "            added_bev.append(temp.split(\"_\")[0])\n",
    "            bev.append(program)\n",
    "        \n",
    "\n",
    "for program in random.sample(bev, anzahl): \n",
    "    print(program)\n",
    "    #beha.runBehavior(program)"
   ]
  },
  {
   "cell_type": "code",
   "execution_count": null,
   "metadata": {},
   "outputs": [],
   "source": [
    "def hampelmann(repo):\n",
    "    ropo.goToPosture(\"Stand\", 2.5)"
   ]
  },
  {
   "cell_type": "code",
   "execution_count": 51,
   "metadata": {},
   "outputs": [
    {
     "data": {
      "text/plain": [
       "True"
      ]
     },
     "execution_count": 51,
     "metadata": {},
     "output_type": "execute_result"
    }
   ],
   "source": [
    "ropo"
   ]
  },
  {
   "cell_type": "code",
   "execution_count": null,
   "metadata": {},
   "outputs": [],
   "source": [
    "ropo.goToPosture(\"Stand\", 2.5)\n"
   ]
  },
  {
   "cell_type": "code",
   "execution_count": 19,
   "metadata": {},
   "outputs": [
    {
     "data": {
      "text/plain": [
       "True"
      ]
     },
     "execution_count": 19,
     "metadata": {},
     "output_type": "execute_result"
    }
   ],
   "source": [
    "ropo.goToPosture(\"Sit\", 1.0)"
   ]
  },
  {
   "cell_type": "code",
   "execution_count": 23,
   "metadata": {},
   "outputs": [],
   "source": [
    "beha.runBehavior(\"animations/Sit/Waiting/Music_HighwayToHell_1\")"
   ]
  },
  {
   "cell_type": "code",
   "execution_count": null,
   "metadata": {},
   "outputs": [],
   "source": [
    "beha.stopAllBehaviors()"
   ]
  },
  {
   "cell_type": "code",
   "execution_count": null,
   "metadata": {},
   "outputs": [],
   "source": [
    "ansp.say(\"Hello, ^mode(disabled) I don't need to move the whole time, ^mode(contextual) but I can.\")"
   ]
  },
  {
   "cell_type": "code",
   "execution_count": null,
   "metadata": {},
   "outputs": [
    {
     "data": {
      "text/plain": [
       "True"
      ]
     },
     "execution_count": 61,
     "metadata": {},
     "output_type": "execute_result"
    }
   ],
   "source": [
    "moto.moveTo(-0.4, 0.5, 0.3)"
   ]
  },
  {
   "cell_type": "code",
   "execution_count": null,
   "metadata": {},
   "outputs": [
    {
     "data": {
      "text/plain": [
       "True"
      ]
     },
     "execution_count": 32,
     "metadata": {},
     "output_type": "execute_result"
    }
   ],
   "source": [
    "moto.stopMove()"
   ]
  },
  {
   "cell_type": "code",
   "execution_count": null,
   "metadata": {},
   "outputs": [],
   "source": [
    "moto.move(-0.2, 0.0, 0.0)"
   ]
  },
  {
   "cell_type": "code",
   "execution_count": null,
   "metadata": {},
   "outputs": [],
   "source": [
    "\n",
    "video = ALProxy(\"ALVideoDevice\",NAOIP, PORT)\n"
   ]
  },
  {
   "cell_type": "code",
   "execution_count": null,
   "metadata": {},
   "outputs": [],
   "source": [
    "subscriber = video.subscribeCamera(\"demo\",0,3,13,1)"
   ]
  },
  {
   "cell_type": "markdown",
   "metadata": {},
   "source": [
    "# MY Test"
   ]
  },
  {
   "cell_type": "code",
   "execution_count": 14,
   "metadata": {},
   "outputs": [],
   "source": [
    "ap = \"ALAudioPlayer\"\n",
    "alap = ALProxy(ap, NAOIP, PORT)"
   ]
  },
  {
   "cell_type": "code",
   "execution_count": 15,
   "metadata": {},
   "outputs": [
    {
     "data": {
      "text/plain": [
       "426"
      ]
     },
     "execution_count": 15,
     "metadata": {},
     "output_type": "execute_result"
    }
   ],
   "source": [
    "alap.post.playFile(\"/data/home/nao/.local/share/PackageManager/download/Shark.wav\",0.01,-1.0)"
   ]
  },
  {
   "cell_type": "code",
   "execution_count": 56,
   "metadata": {},
   "outputs": [],
   "source": [
    "ap = \"ALAudioPlayer\"\n",
    "alap = ALProxy(ap, NAOIP, PORT)\n",
    "\n",
    "import paramiko\n",
    " \n",
    "with paramiko.SSHClient() as ssh:\n",
    "    ssh.set_missing_host_key_policy(paramiko.AutoAddPolicy())\n",
    "    ssh.connect(NAOIP, username=\"nao\", password=\"19980\")\n",
    " \n",
    "    sftp = ssh.open_sftp()\n",
    "\n",
    "    sftp.chdir('/data/home/nao/.local/share/PackageManager/download')\n",
    "    sftp.put(r\"C:\\Users\\samue\\OneDrive\\FH\\Semester 5\\IP\\PythonfilesOctober2022[2525]\\Shark.wav\", 'Shark.wav')\n",
    "    \n",
    "alap.post.playFile(\"/data/home/nao/.local/share/PackageManager/download/Shark.wav\",0.2,-1.0)"
   ]
  },
  {
   "cell_type": "code",
   "execution_count": 61,
   "metadata": {},
   "outputs": [],
   "source": [
    "import paramiko\n",
    " \n",
    "with paramiko.SSHClient() as ssh:\n",
    "    ssh.set_missing_host_key_policy(paramiko.AutoAddPolicy())\n",
    "    ssh.connect(NAOIP, username=\"nao\", password=\"19980\")\n",
    " \n",
    "    sftp = ssh.open_sftp()\n",
    "\n",
    "    sftp.chdir('/data/home/nao/.local/share/PackageManager/download')\n",
    "    sftp.put(r\"C:\\Users\\samue\\OneDrive\\FH\\Semester 5\\IP\\PythonfilesOctober2022[2525]\\Shark.wav\", 'Shark.wav')"
   ]
  },
  {
   "cell_type": "code",
   "execution_count": 62,
   "metadata": {},
   "outputs": [
    {
     "data": {
      "text/plain": [
       "3089"
      ]
     },
     "execution_count": 62,
     "metadata": {},
     "output_type": "execute_result"
    }
   ],
   "source": [
    "alap.post.playFile(\"/data/home/nao/.local/share/PackageManager/download/Shark.wav\",0.2,-1.0)"
   ]
  },
  {
   "cell_type": "code",
   "execution_count": 33,
   "metadata": {},
   "outputs": [],
   "source": [
    "fileId = alap.loadFile(\"/data/home/nao/.local/share/PackageManager/download/Sharks.wav\")"
   ]
  },
  {
   "cell_type": "code",
   "execution_count": 12,
   "metadata": {},
   "outputs": [],
   "source": [
    "import sys\n",
    "import time\n",
    "\n",
    "# Python Image Library\n",
    "from PIL import Image\n",
    "\n",
    "def showNaoImage(IP, PORT,camera,resolution, colorSpace):\n",
    "  \"\"\"\n",
    "  First get an image from Nao, then show it on the screen with PIL.\n",
    "  \"\"\"\n",
    "\n",
    "  camProxy = ALProxy(\"ALVideoDevice\", IP, PORT)\n",
    "  videoClient = camProxy.subscribeCamera(\"python_client\",0, resolution, colorSpace, 5)\n",
    "\n",
    "  t0 = time.time()\n",
    "\n",
    "  # Get a camera image.\n",
    "  # image[6] contains the image data passed as an array of ASCII chars.\n",
    "  naoImage = camProxy.getImageRemote(videoClient)\n",
    "\n",
    "  t1 = time.time()\n",
    "\n",
    "  # Time the image transfer.\n",
    "  print \"acquisition delay \", t1 - t0\n",
    "\n",
    "  camProxy.unsubscribe(videoClient)\n",
    "\n",
    "\n",
    "  # Now we work with the image returned and save it as a PNG  using ImageDraw\n",
    "  # package.\n",
    "\n",
    "  # Get the image size and pixel array.\n",
    "  imageWidth = naoImage[0]\n",
    "  imageHeight = naoImage[1]\n",
    "  array = naoImage[6]\n",
    "\n",
    "  # Create a PIL Image from our pixel array.\n",
    "  im = Image.frombytes(\"RGB\", (imageWidth, imageHeight), array)\n",
    "\n",
    "  # Save the image.\n",
    "  im.save(\"camImage.png\", \"PNG\")\n",
    "\n",
    "  im.show()\n"
   ]
  },
  {
   "cell_type": "code",
   "execution_count": 17,
   "metadata": {},
   "outputs": [
    {
     "name": "stdout",
     "output_type": "stream",
     "text": [
      "acquisition delay  4.22106003761\n"
     ]
    }
   ],
   "source": [
    "camera = 1 # 0 = top camera, 1 = bottom camera\n",
    "resolution = 3 # 0 = QQVGA, 1 = QVGA, 2 = VGA\n",
    "colorSpace = 11 # http://doc.aldebaran.com/2-5/family/robots/video_robot.html#cameracolorspace-mt9m114\n",
    "naoImage = showNaoImage(NAOIP, PORT,camera,resolution, colorSpace)"
   ]
  }
 ],
 "metadata": {
  "kernelspec": {
   "display_name": "Python 2.7.18 64-bit",
   "language": "python",
   "name": "python3"
  },
  "language_info": {
   "codemirror_mode": {
    "name": "ipython",
    "version": 2
   },
   "file_extension": ".py",
   "mimetype": "text/x-python",
   "name": "python",
   "nbconvert_exporter": "python",
   "pygments_lexer": "ipython2",
   "version": "2.7.18"
  },
  "orig_nbformat": 4,
  "vscode": {
   "interpreter": {
    "hash": "949777d72b0d2535278d3dc13498b2535136f6dfe0678499012e853ee9abcab1"
   }
  }
 },
 "nbformat": 4,
 "nbformat_minor": 2
}
