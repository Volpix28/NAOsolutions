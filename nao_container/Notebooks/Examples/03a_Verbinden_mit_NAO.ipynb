{
 "cells": [
  {
   "cell_type": "markdown",
   "metadata": {},
   "source": [
    "# Erste Schritte mit NAO in Python"
   ]
  },
  {
   "cell_type": "markdown",
   "metadata": {},
   "source": [
    "NAOqi ist die Software des Roboters, die zu dessen Programmierung verwendet wird.  \n",
    "Das NAOqi Framework ist die Grundlage für die Kommunikation zwischen Modulen und fungiert als sogenannter „Broker“, der es ermöglicht, Module zu finden."
   ]
  },
  {
   "cell_type": "markdown",
   "metadata": {},
   "source": [
    "Die NAOqi Software ist bereits vorinstalliert. \n",
    "Es ist aber noch nötig, dem Programm zu sagen, dass auf die dort vorhandenen Module zugegriffen werden soll. "
   ]
  },
  {
   "cell_type": "code",
   "execution_count": 1,
   "metadata": {},
   "outputs": [],
   "source": [
    "from naoqi import ALProxy"
   ]
  },
  {
   "cell_type": "markdown",
   "metadata": {},
   "source": [
    "Zur Erinnerung:  \n",
    "  \n",
    "Der Aufbau für den Befehl, mit dem über ALProxy auf die Module zugegriffen wird, sieht folgendermaßen aus:  \n",
    "\n",
    "**ALProxy(Modulname, IP-Adresse, Port)**  \n"
   ]
  },
  {
   "cell_type": "markdown",
   "metadata": {},
   "source": [
    "## Variablen vergeben"
   ]
  },
  {
   "cell_type": "markdown",
   "metadata": {},
   "source": [
    "Damit nicht bei jedem Aufruf erneut alle Daten eingegeben werden müssen, ist es sinnvoll, gleich zu Beginn ein paar Variablen festzulegen: "
   ]
  },
  {
   "cell_type": "code",
   "execution_count": 2,
   "metadata": {},
   "outputs": [],
   "source": [
    "# WAS? -> Modulname\n",
    "tts = 'ALTextToSpeech'"
   ]
  },
  {
   "cell_type": "code",
   "execution_count": 3,
   "metadata": {},
   "outputs": [],
   "source": [
    "# WER? -> NAO-Adresse\n",
    "NAOIP = '169.254.30.252'     # IP-Adresse bei Bedarf erneut abrufen und ggf. korrigieren  "
   ]
  },
  {
   "cell_type": "code",
   "execution_count": 4,
   "metadata": {},
   "outputs": [],
   "source": [
    "# WIE? -> Netzwerk-Port\n",
    "PORT = 9559"
   ]
  },
  {
   "cell_type": "markdown",
   "metadata": {},
   "source": [
    "Damit sind die drei Parameter \"Modulname\", \"IP-Adresse\" und \"Port\" einem Namen zugewiesen.   \n",
    "\n",
    "Auch für den Broker als Ganzen kann nun eine Variable vergeben werden:   "
   ]
  },
  {
   "cell_type": "code",
   "execution_count": 5,
   "metadata": {},
   "outputs": [],
   "source": [
    "text = ALProxy(tts, NAOIP, PORT)"
   ]
  },
  {
   "cell_type": "markdown",
   "metadata": {},
   "source": [
    "## Methoden aufrufen"
   ]
  },
  {
   "cell_type": "markdown",
   "metadata": {},
   "source": [
    "Wären vorab für den Textmodul-Broker und die einzelnen Parameter keine Variablen vergeben worden, würde der Befehl für die Methode \"say\", mit der NAO \"Hello\" sagen soll, nun so aussehen:      \n",
    "\n",
    "**ALProxy('ALTextToSpeech', '10.203.13.211', 9559).say(\"Hello!\")**.    \n",
    "\n",
    "Stattdessen kann derselbe Befehl kurz und einfach so dargestellt werden: "
   ]
  },
  {
   "cell_type": "code",
   "execution_count": 6,
   "metadata": {},
   "outputs": [],
   "source": [
    "text.say(\"Hello!\")"
   ]
  },
  {
   "cell_type": "markdown",
   "metadata": {},
   "source": [
    "Soll NAO beispielsweise bestimmte Texte immer wieder abrufen können, ist es auch möglich, für diese Texte Kürzel (also Variablen) festzulegen, z.B.:"
   ]
  },
  {
   "cell_type": "code",
   "execution_count": 7,
   "metadata": {},
   "outputs": [],
   "source": [
    "mandela = \"Nelson Mandela once said: The greatest glory in living lies not in never falling, but in rising every time we fall.\"\n",
    "disney = \"Walt Disney once said: The way to get started is to quit talking and begin doing.\"\n",
    "mead = \"Margret Mead once said: Always remember that you are absolutely unique. Just like everyone else.\""
   ]
  },
  {
   "cell_type": "markdown",
   "metadata": {},
   "source": [
    "Möchte man NAO nun eines dieser Zitate aufsagen lassen, reicht der folgende Befehl:"
   ]
  },
  {
   "cell_type": "code",
   "execution_count": 8,
   "metadata": {},
   "outputs": [],
   "source": [
    "text.say(mead)"
   ]
  },
  {
   "cell_type": "markdown",
   "metadata": {},
   "source": [
    "**Wichtig!**   \n",
    "Variablen werden ohne Anführungszeichen in den Methodenklammern übergeben.   \n",
    "\n",
    "Mit Anführungszeichen liest NAO den Befehl als Aufforderung, den Text darin 1:1 wiederzugeben (wie bei der bekannten Schreibweise der direkten Anrede)."
   ]
  },
  {
   "cell_type": "markdown",
   "metadata": {},
   "source": [
    "---"
   ]
  },
  {
   "cell_type": "markdown",
   "metadata": {},
   "source": [
    "### Übung\n",
    "  \n",
    "Welche Texte könnte NAO immer wieder benötigen?  \n",
    "\n",
    "zB: fehler = \"Oh no! Something went wrong!\""
   ]
  },
  {
   "cell_type": "code",
   "execution_count": 9,
   "metadata": {},
   "outputs": [],
   "source": [
    "var1 = \"example text\"\n",
    "..."
   ]
  },
  {
   "cell_type": "code",
   "execution_count": 10,
   "metadata": {},
   "outputs": [],
   "source": [
    "text.say(var1)"
   ]
  },
  {
   "cell_type": "markdown",
   "metadata": {},
   "source": [
    "---"
   ]
  }
 ],
 "metadata": {
  "interpreter": {
   "hash": "c41245681b0c5dfdc198064911b7c792a0421ee2cbedc4ec4c9079156fd03e41"
  },
  "kernelspec": {
   "display_name": "Python 2.7.18 64-bit (system)",
   "language": "python",
   "name": "python3"
  },
  "language_info": {
   "codemirror_mode": {
    "name": "ipython",
    "version": 2
   },
   "file_extension": ".py",
   "mimetype": "text/x-python",
   "name": "python",
   "nbconvert_exporter": "python",
   "pygments_lexer": "ipython2",
   "version": "2.7.18"
  },
  "orig_nbformat": 4
 },
 "nbformat": 4,
 "nbformat_minor": 2
}
