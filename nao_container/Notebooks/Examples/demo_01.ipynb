{
 "cells": [
  {
   "cell_type": "code",
   "execution_count": null,
   "metadata": {},
   "outputs": [],
   "source": [
    "from naoqi import ALProxy\n",
    "import time\n",
    "import random"
   ]
  },
  {
   "cell_type": "code",
   "execution_count": null,
   "metadata": {},
   "outputs": [],
   "source": [
    "NAOIP = \"192.168.8.142\"\n",
    "#NAOIP = \"10.203.13.211\"\n",
    "PORT = 9559\n",
    "\n",
    "tts = \"ALTextToSpeech\"\n",
    "asp = \"ALAnimatedSpeech\"\n",
    "rps = \"ALRobotPosture\"\n",
    "mtn = \"ALMotion\"\n",
    "beh = \"ALBehaviorManager\"\n",
    "apl = 'ALAudioPlayer'"
   ]
  },
  {
   "cell_type": "code",
   "execution_count": null,
   "metadata": {},
   "outputs": [],
   "source": [
    "text = ALProxy(tts, NAOIP, PORT)\n",
    "ansp = ALProxy(asp, NAOIP, PORT)\n",
    "ropo = ALProxy(rps, NAOIP, PORT)\n",
    "moto = ALProxy(mtn, NAOIP, PORT)\n",
    "beha = ALProxy(beh, NAOIP, PORT)\n",
    "aupl = ALProxy(apl, NAOIP, PORT)"
   ]
  },
  {
   "cell_type": "code",
   "execution_count": null,
   "metadata": {},
   "outputs": [],
   "source": [
    "#moto.wakeUp()\n",
    "moto.rest()"
   ]
  },
  {
   "cell_type": "code",
   "execution_count": null,
   "metadata": {},
   "outputs": [],
   "source": [
    "behas = beha.getInstalledBehaviors()\n",
    "gests = [s for s in behas if \"Gestures\" in s]\n",
    "standgests = [s for s in gests if 'Stand' in s]\n",
    "sitgests = [s for s in gests if 'Sit' in s]"
   ]
  },
  {
   "cell_type": "code",
   "execution_count": null,
   "metadata": {},
   "outputs": [],
   "source": [
    "behs = ['animations/Stand/Emotions/Negative/Angry_1', 'animations/Stand/Emotions/Negative/Angry_2', 'animations/Stand/Emotions/Negative/Angry_4', 'animations/Stand/Emotions/Negative/Exhausted_2', 'animations/Stand/Emotions/Negative/Fear_1', 'animations/Stand/Emotions/Negative/Fear_2', 'animations/Stand/Emotions/Negative/Frustrated_1', 'animations/Stand/Emotions/Negative/Hurt_1', 'animations/Stand/Emotions/Negative/Hurt_2', 'animations/Stand/Emotions/Negative/Late_1', 'animations/Stand/Emotions/Negative/Sad_1', 'animations/Stand/Emotions/Negative/Surprise_1', 'animations/Stand/Emotions/Negative/Surprise_2', 'animations/Stand/Emotions/Neutral/AskForAttention_2', 'animations/Stand/Emotions/Neutral/AskForAttention_3', 'animations/Stand/Emotions/Neutral/Hello_1', 'animations/Stand/Emotions/Neutral/Hesitation_1', 'animations/Stand/Emotions/Neutral/Sneeze', 'animations/Stand/Emotions/Positive/Amused_1', 'animations/Stand/Emotions/Positive/Excited_2', 'animations/Stand/Emotions/Positive/Happy_1', 'animations/Stand/Emotions/Positive/Happy_2', 'animations/Stand/Emotions/Positive/Happy_3', 'animations/Stand/Emotions/Positive/Hungry_1', 'animations/Stand/Emotions/Positive/Interested_2', 'animations/Stand/Emotions/Positive/Laugh_1', 'animations/Stand/Emotions/Positive/Laugh_2', 'animations/Stand/Emotions/Positive/Laugh_3', 'animations/Stand/Emotions/Positive/Mocker_1', 'animations/Stand/Emotions/Positive/Winner_1', 'animations/Stand/Emotions/Positive/Winner_2']\n",
    "\n",
    "listening = 'animations/Stand/BodyTalk/Listening/'\n",
    "lis = ['ListeningLeft_1']\n",
    "\n",
    "speaking = 'animations/Stand/BodyTalk/Speaking/'\n",
    "spe = ['BodyTalk_1', 'BodyTalk_2', 'BodyTalk_3', 'BodyTalk_4', 'BodyTalk_5', 'BodyTalk_6', 'BodyTalk_8', 'BodyTalk_10', 'BodyTalk_11', 'BodyTalk_13', 'BodyTalk_14', 'BodyTalk_15', 'BodyTalk_18', 'BodyTalk_19', 'BodyTalk_20', 'BodyTalk_21', 'BodyTalk_22']\n",
    "\n",
    "thinking = 'animations/Stand/BodyTalk/Thinking/'\n",
    "thi = ['Remember_1', 'Remember_2', 'Remember_3']\n",
    "\n",
    "negative = 'animations/Stand/Emotions/Negative/'\n",
    "neg = ['Angry_1', 'Angry_2', 'Angry_3', 'Angry_4', 'Anxious_1', 'Bored_1', 'Bored_2', 'Disappointed_1', 'Exhausted_1', 'Exhausted_2', 'Fear_1', 'Fear_2', 'Fearful_1', 'Frustrated_1', 'Humiliated_1', 'Hurt_1', 'Hurt_2', 'Late_1', 'Sad_1', 'Sorry_1', 'Surprise_1', 'Surprise_2', 'Surprise_3']\n",
    "\n",
    "feelings = 'animations/Stand/Emotions/Neutral/'\n",
    "fee = ['Annoyed_1', 'AskForAttention_1', 'AskForAttention_2', 'AskForAttention_3', 'Cautious_1', 'Confused_1', 'Determined_1', 'Embarrassed_1', 'Hello_1', 'Hesitation_1', 'Mischievous_1', 'Puzzled_1', 'Sneeze', 'Stubborn_1', 'Suspicious_1']\n",
    "\n",
    "positive = 'animations/Stand/Emotions/Positive/'\n",
    "pos = ['Amused_1', 'Confident_1', 'Enthusiastic_1', 'Excited_1', 'Excited_2', 'Excited_3', 'Happy_1', 'Happy_2', 'Happy_3', 'Happy_4', 'Hungry_1', 'Hysterical_1', 'Interested_1', 'Interested_2', 'Laugh_1', 'Laugh_2', 'Laugh_3', 'Mocker_1', 'Proud_3', 'Relieved_1', 'Shy_1', 'Sure_1', 'Winner_1', 'Winner_2']\n",
    "\n",
    "beh1 = listening + random.choice(lis)\n",
    "beh2 = speaking + random.choice(spe)\n",
    "beh3 = thinking + random.choice(thi)\n",
    "beh4 = negative + random.choice(neg)\n",
    "beh5 = feelings + random.choice(fee)\n",
    "beh6 = positive + random.choice(pos)\n",
    "\n",
    "tosay = ['Clap hands, clap hands, Till father comes home, For fathers got money, But mothers got none.', \n",
    "    'Diddle, diddle, dumpling, my son John, Went to bed with his trousers on; One shoe off, one shoe on, Diddle, diddle dumpling my son John!', \n",
    "    'The cock crows in the morning To tell us to rise, And he that lies late Will never be wise.', \n",
    "    'Hark, hark, the dogs do bark, The beggars are coming to town Some in rags, and some in jags, And some in velvet gowns.', \n",
    "    'Hickety pickety, my black hen, She lay\\’s eggs for gentlemen; Sometimes nine, sometimes ten, Hickety pickety, my black hen.', \n",
    "    'If all the world were paper, And all the sea were ink, If all the trees were bread and cheese, What would we have to drink?', \n",
    "    'I\\’ll tell you a story About Jack-a-Nory, And now my story\\’s begun; I\\’ll tell you another, About Jack and his brother, And now my story is done.', \n",
    "    'The Queen of Hearts, She made some tarts, All on a summer\\’s day; The Knave of hearts, He stole those tarts, And took them clean away.', \n",
    "    'Five little monkeys jumping on the bed, One fell down and bumped his head, Mama called the doctor and the doctor said, No more monkeys jumping on the bed!', \n",
    "    'Five Little Ducks went out one day, over the hills and far away. Mother Duck said, Quack Quack - Quack Quack, but only four little ducks came back.', \n",
    "    'Little Tommy Tittlemouse Lived in a little house, He caught fishes In other men\\’s ditches.']\n",
    "ts1 = ['Okay, now let\\'s start!', 'I\\'m ready for moving!', 'Let\\'s get started!', 'Ready to see me move?', '3, 2, 1, go!', 'Should I stay or should I go?', 'Yeeaaah, what now?', 'Aaaaaaaaand - here we go!']\n",
    "postures = ['Crouch', 'LyingBack', 'LyingBelly', 'Sit', 'SitRelax', 'Stand', 'Standinit', 'StandZero']\n"
   ]
  },
  {
   "cell_type": "code",
   "execution_count": null,
   "metadata": {},
   "outputs": [],
   "source": [
    "aupl.loadSoundSet('Aldebaran')\n",
    "sounds = aupl.getSoundSetFileNames('Aldebaran')"
   ]
  },
  {
   "cell_type": "code",
   "execution_count": null,
   "metadata": {},
   "outputs": [],
   "source": [
    "aupl.playFile('/data/home/nao/.local/share/PackageManager/apps/soundsetaldebaran/' + random.choice(sounds)+ '.ogg')"
   ]
  },
  {
   "cell_type": "code",
   "execution_count": null,
   "metadata": {},
   "outputs": [],
   "source": [
    "def act(behavior_name):\n",
    "    if (beha.isBehaviorInstalled(behavior_name)):\n",
    "        if (not beha.isBehaviorRunning(behavior_name)):\n",
    "            beha.runBehavior(positive + random.choice(pos))\n",
    "            aupl.playFile('/data/home/nao/.local/share/PackageManager/apps/soundsetaldebaran/' + random.choice(sounds)+ '.ogg')\n",
    "            time.sleep(0.5)\n",
    "            ansp.say(random.choice(ts1))\n",
    "            beha.runBehavior(speaking + random.choice(spe))\n",
    "            moto.moveTo(random.uniform(-0.5, 0.5), random.uniform(-0.5, 0.5), random.uniform(-3.1, 3.1))\n",
    "            time.sleep(0.5)\n",
    "            beha.runBehavior(behavior_name, _async=True)\n",
    "            time.sleep(0.5)\n",
    "            beha.stopBehavior(behavior_name)\n",
    "            beha.runBehavior(feelings + random.choice(fee))\n",
    "            aupl.playFile('/data/home/nao/.local/share/PackageManager/apps/soundsetaldebaran/' + random.choice(sounds)+ '.ogg')\n",
    "            time.sleep(0.5)\n",
    "            beha.runBehavior(speaking + random.choice(spe))\n",
    "            aupl.playFile('/data/home/nao/.local/share/PackageManager/apps/soundsetaldebaran/' + random.choice(sounds)+ '.ogg')\n",
    "            time.sleep(0.5)\n",
    "            ansp.say(random.choice(tosay))\n",
    "            beha.runBehavior(thinking + random.choice(thi))\n",
    "            moto.moveTo(random.uniform(-0.5, 0.5), 0.0, 0.0)\n",
    "            ropo.goToPosture(random.choice(postures), 0.8)\n",
    "            time.sleep(0.5)\n",
    "            aupl.playFile('/data/home/nao/.local/share/PackageManager/apps/soundsetaldebaran/' + random.choice(sounds)+ '.ogg')\n",
    "            time.sleep(0.5)\n",
    "            ropo.goToPosture(\"StandZero\", 1.0)\n",
    "            beha.runBehavior(positive + random.choice(pos))\n",
    "            moto.rest()\n",
    "        else:\n",
    "            text.say(\"Behavior is already running.\")\n",
    "    else:\n",
    "        text.say(\"Behavior not found.\")\n",
    "    return"
   ]
  },
  {
   "cell_type": "code",
   "execution_count": null,
   "metadata": {},
   "outputs": [],
   "source": [
    "def showall():\n",
    "    aupl.playFile('/data/home/nao/.local/share/PackageManager/apps/soundsetaldebaran/amb_ladies_and_gentlemen_nao.ogg')\n",
    "    text.resetSpeed()\n",
    "    ansp.say('My name is Nao. Hello! Let me show you some things I can do!')\n",
    "    beha.runBehavior(thinking + random.choice(thi))\n",
    "    time.sleep(1.0)\n",
    "    text.say('First of all, I can talk.')\n",
    "    time.sleep(1.0)\n",
    "    text.setParameter(\"pitchShift\", 1.5)\n",
    "    text.setParameter(\"speed\", 70)\n",
    "    text.say('I can even talk in a really high voice if I want, but that would be a bit annoying after a while, wouldn\\'t it?')\n",
    "    beha.runBehavior(negative + random.choice(neg))\n",
    "    text.resetSpeed()\n",
    "    time.sleep(1.0)\n",
    "    text.setParameter(\"pitchShift\", 0)\n",
    "    text.say('So this is much better, I think.')\n",
    "    time.sleep(1.0)\n",
    "    text.say(\"And I don't need to move while speaking, but I can. Let me show you with a nursery rhyme: \")\n",
    "    ansp.say('^mode(contextual) Jack Sprat could eat no fat. His wife could eat no lean. And so between them both, you see, They licked the platter clean. Jack ate all the lean, Joan ate all the fat. The bone they picked it clean, Then gave it to the cat.')\n",
    "    time.sleep(1.0)\n",
    "    text.say('Talking about something to eat... Aren\\'t you hungry? Cause I think there\\'s food somewhere!')\n",
    "    beha.runBehavior('animations/Stand/Emotions/Positive/Hungry_1')\n",
    "    time.sleep(1.0)\n",
    "    beha.runBehavior('animations/Stand/Emotions/Neutral/AskForAttention_2')\n",
    "    text.say('Sometimes I even speak German, but that\\'s still a bit difficult to me.')\n",
    "    time.sleep(1.0)\n",
    "    aupl.playFile('/data/home/nao/.local/share/PackageManager/apps/soundsetaldebaran/enu_ono_cough_embarrased_03.ogg')\n",
    "    text.setParameter('speed', 80)\n",
    "    text.say(\"Ich kenne da einen wirklich schwierigen Zungenbrecher: Brautkleid bleibt Brautkleid und Blaukraut bleibt Blaukraut.\", \"German\")\n",
    "    text.resetSpeed()\n",
    "    beha.runBehavior(positive + random.choice(pos))\n",
    "    ansp.say('^run(animations/Stand/Reactions/ShakeBody_1) Sounds funny! ^run(animations/Stand/Emotions/Positive/Laugh_2)')\n",
    "    time.sleep(1.0)\n",
    "    text.say(\"But that\\'s not all. I can move too. Let me show you how I walk:\")\n",
    "    moto.moveTo(0.5, 0.0, -0.5)\n",
    "    time.sleep(1.0)\n",
    "    text.say('And back again: ')\n",
    "    moto.moveTo(-0.5, 0.0, 0.0)\n",
    "    time.sleep(1.0)\n",
    "    text.say('I can even walk sideways or in circles!')\n",
    "    moto.moveTo(0.0, 0.3, 0.0)\n",
    "    beha.runBehavior('animations/Stand/Emotions/Neutral/Sneeze')\n",
    "    text.say('Is it dusty in here?')\n",
    "    time.sleep(1.0)\n",
    "    moto.moveTo(0.0, -0.3, 0.0)\n",
    "    time.sleep(1.0)\n",
    "    ansp.say('^start(animations/Stand/Reactions/TouchHead_2) I nearly forgot to show you my circle walk!')\n",
    "    moto.moveTo(0.8, 0.3, 3.14)\n",
    "    beha.runBehavior(positive + random.choice(pos))\n",
    "    time.sleep(1.0)\n",
    "    text.say('Sometimes I get tired, then it\\'s better to get into a more comfortable posture: ')\n",
    "    time.sleep(1.0)\n",
    "    ropo.goToPosture(\"Crouch\", 1.0)\n",
    "    time.sleep(1.0)\n",
    "    text.say('Or maybe it would be even better lying on my belly?')\n",
    "    ropo.goToPosture(\"LyingBelly\", 1.0)\n",
    "    time.sleep(1.0)\n",
    "    aupl.playFile('/data/home/nao/.local/share/PackageManager/apps/soundsetaldebaran/enu_music_lullaby_03.ogg')\n",
    "    ansp.say('\\\\rspd=70\\\\ Well, \\\\pau=1500\\\\ ^runSound(Aldebaran/enu_ono_cute_yawn_01) \\\\pau=1000\\\\ \\\\rspd=100\\\\ that\\s great, but I would probably fall asleep, if I stay in this position.')\n",
    "    time.sleep(1.0)\n",
    "    ropo.goToPosture(\"SitRelax\", 1.0)\n",
    "    text.say('Better!')\n",
    "    time.sleep(1.0)\n",
    "    beha.runBehavior('animations/Sit/Emotions/Negative/Late_1')\n",
    "    time.sleep(1.0)\n",
    "    text.say('Oh No! Do we have enough time for more? I better stand up again!')\n",
    "    ropo.goToPosture(\"Stand\", 1.0)\n",
    "    time.sleep(1.0)\n",
    "    text.say('Okay, I\\'ll show you some few more behaviors, before I take a rest.')\n",
    "    time.sleep(1.0)\n",
    "    text.say('Some feelings:')\n",
    "    beha.runBehavior(feelings + random.choice(fee))\n",
    "    beha.runBehavior(feelings + random.choice(fee))\n",
    "    beha.runBehavior(feelings + random.choice(fee))\n",
    "    time.sleep(1.0)\n",
    "    text.say('How I move during speech: ')\n",
    "    beha.runBehavior(speaking + random.choice(spe))\n",
    "    beha.runBehavior(speaking + random.choice(spe))\n",
    "    beha.runBehavior(speaking + random.choice(spe))\n",
    "    time.sleep(1.0)\n",
    "    text.say('When I have to think about something: ')\n",
    "    beha.runBehavior(thinking + random.choice(thi))\n",
    "    beha.runBehavior(thinking + random.choice(thi))\n",
    "    beha.runBehavior(thinking + random.choice(thi))\n",
    "    time.sleep(1.0)\n",
    "    text.say('Or when I\\'m happy: ')\n",
    "    beha.runBehavior(positive + random.choice(pos))\n",
    "    ansp.say('^startSound(Aldebaran/enu_ono_playlittlesong) ^run(animations/Stand/Waiting/FunnyDancer_1)')\n",
    "    ansp.say('^startSound(Aldebaran/enu_ono_oulalalalaaaa_01) ^run(animations/Stand/Gestures/Enthusiastic_5)')\n",
    "    time.sleep(1.0)\n",
    "    ansp.say('Okay, I think, I have shown you enough for the moment. Thank you for watching! Time for a little break for me.')\n",
    "    beha.runBehavior('animations/Stand/Emotions/Positive/Relieved_1')\n",
    "    time.sleep(1.0)\n",
    "    aupl.playFile('/data/home/nao/.local/share/PackageManager/apps/soundsetaldebaran/' + random.choice(sounds)+ '.ogg')\n",
    "    ansp.say('^runSound(Aldebaran/enu_ono_humhumhumsing) \\\\pau=2000\\\\ Enough now, see you soon! It has been a pleasure meeting you all! ^run(animations/Stand/Gestures/Kisses_1)')\n",
    "    moto.rest()"
   ]
  },
  {
   "cell_type": "code",
   "execution_count": null,
   "metadata": {},
   "outputs": [],
   "source": [
    "showall()"
   ]
  },
  {
   "cell_type": "code",
   "execution_count": null,
   "metadata": {},
   "outputs": [],
   "source": [
    "moto.wakeUp()"
   ]
  },
  {
   "cell_type": "code",
   "execution_count": null,
   "metadata": {},
   "outputs": [],
   "source": [
    "moto.rest()"
   ]
  },
  {
   "cell_type": "code",
   "execution_count": null,
   "metadata": {},
   "outputs": [],
   "source": [
    "act(random.choice(standgests))"
   ]
  },
  {
   "cell_type": "code",
   "execution_count": null,
   "metadata": {},
   "outputs": [],
   "source": [
    "act(listening + random.choice(lis))"
   ]
  },
  {
   "cell_type": "code",
   "execution_count": null,
   "metadata": {},
   "outputs": [],
   "source": [
    "act(thinking + random.choice(thi))"
   ]
  },
  {
   "cell_type": "code",
   "execution_count": null,
   "metadata": {},
   "outputs": [],
   "source": [
    "act(speaking + random.choice(spe))"
   ]
  },
  {
   "cell_type": "code",
   "execution_count": null,
   "metadata": {},
   "outputs": [],
   "source": [
    "act(negative + random.choice(neg))"
   ]
  },
  {
   "cell_type": "code",
   "execution_count": null,
   "metadata": {},
   "outputs": [],
   "source": [
    "act(feelings + random.choice(fee))"
   ]
  },
  {
   "cell_type": "code",
   "execution_count": null,
   "metadata": {},
   "outputs": [],
   "source": [
    "beha.stopAllBehaviors()"
   ]
  },
  {
   "cell_type": "code",
   "execution_count": null,
   "metadata": {},
   "outputs": [],
   "source": [
    "moto.wakeUp()"
   ]
  },
  {
   "cell_type": "code",
   "execution_count": null,
   "metadata": {},
   "outputs": [],
   "source": [
    "moto.rest()"
   ]
  }
 ],
 "metadata": {
  "interpreter": {
   "hash": "c41245681b0c5dfdc198064911b7c792a0421ee2cbedc4ec4c9079156fd03e41"
  },
  "kernelspec": {
   "display_name": "Python 2.7.18 64-bit (system)",
   "language": "python",
   "name": "python3"
  },
  "language_info": {
   "codemirror_mode": {
    "name": "ipython",
    "version": 2
   },
   "file_extension": ".py",
   "mimetype": "text/x-python",
   "name": "python",
   "nbconvert_exporter": "python",
   "pygments_lexer": "ipython2",
   "version": "2.7.18"
  },
  "orig_nbformat": 4
 },
 "nbformat": 4,
 "nbformat_minor": 2
}
