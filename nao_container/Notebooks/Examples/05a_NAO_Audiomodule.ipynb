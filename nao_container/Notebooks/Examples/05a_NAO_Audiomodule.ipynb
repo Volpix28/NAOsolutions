{
 "cells": [
  {
   "cell_type": "markdown",
   "metadata": {},
   "source": [
    "# Audiomodule"
   ]
  },
  {
   "cell_type": "markdown",
   "metadata": {},
   "source": [
    "NAOs \"Ohren\" sind Lautsprecher.  \n",
    "\n",
    "Seine vier omnidirektionalen Mikrofone befinden sich am Kopf (2 oberhalbt der Stirn, 2 am Hinterkopf.)"
   ]
  },
  {
   "cell_type": "markdown",
   "metadata": {},
   "source": [
    "## ALTextToSpeech"
   ]
  },
  {
   "cell_type": "markdown",
   "metadata": {},
   "source": [
    "Das Modul ALTextToSpeech ermöglicht es dem Roboter zu sprechen.   \n",
    "\n",
    "Es sendet Befehle an eine Text-to-Speech-Engine und erlaubt auch die Anpassung der Stimme.  \n",
    "\n",
    "Das Ergebnis der Synthese wird an die Lautsprecher des Roboters gesendet. "
   ]
  },
  {
   "cell_type": "markdown",
   "metadata": {},
   "source": [
    "Wurde die Session in der Zwischenzeit beendet, dann muss noch einmal das ALProxy-Modul importiert werden:"
   ]
  },
  {
   "cell_type": "code",
   "execution_count": 1,
   "metadata": {},
   "outputs": [],
   "source": [
    "from naoqi import ALProxy"
   ]
  },
  {
   "cell_type": "markdown",
   "metadata": {},
   "source": [
    "Zur Erinnerung: Der Aufbau für den Befehl, mit dem über ALProxy auf die Module zugegriffen wird, sieht folgendermaßen aus:  \n",
    "\n",
    "**ALProxy(Modulname, IP-Adresse, Port)**  \n"
   ]
  },
  {
   "cell_type": "code",
   "execution_count": 2,
   "metadata": {},
   "outputs": [],
   "source": [
    "# WAS? -> Modulname\n",
    "tts = 'ALTextToSpeech'"
   ]
  },
  {
   "cell_type": "code",
   "execution_count": 3,
   "metadata": {},
   "outputs": [],
   "source": [
    "# WER? -> NAO-Adresse\n",
    "NAOIP = '169.254.30.252'     # IP-Adresse bei Bedarf erneut abrufen und ggf. korrigieren  "
   ]
  },
  {
   "cell_type": "code",
   "execution_count": 4,
   "metadata": {},
   "outputs": [],
   "source": [
    "# WIE? -> Netzwerk-Port\n",
    "PORT = 9559"
   ]
  },
  {
   "cell_type": "markdown",
   "metadata": {},
   "source": [
    "Broker für ALRobotPosture:  "
   ]
  },
  {
   "cell_type": "code",
   "execution_count": 5,
   "metadata": {},
   "outputs": [],
   "source": [
    "text = ALProxy(tts, NAOIP, PORT)"
   ]
  },
  {
   "cell_type": "markdown",
   "metadata": {},
   "source": [
    "Um für die folgenden Methoden nicht jedesmal einen neuen Beispieltext eingeben zu müssen, werden hier die drei Übungstexte übergeben.  "
   ]
  },
  {
   "cell_type": "code",
   "execution_count": 6,
   "metadata": {},
   "outputs": [],
   "source": [
    "mandela = \"Nelson Mandela once said: The greatest glory in living lies not in never falling, but in rising every time we fall.\"\n",
    "disney = \"Walt Disney once said: The way to get started is to quit talking and begin doing.\"\n",
    "mead = \"Margret Mead once said: Always remember that you are absolutely unique. Just like everyone else.\""
   ]
  },
  {
   "cell_type": "markdown",
   "metadata": {},
   "source": [
    "### Methoden aufrufen"
   ]
  },
  {
   "cell_type": "markdown",
   "metadata": {},
   "source": [
    "Mit unterschiedlichen „set“-Methoden lässt sich festlegen, *wie* der Text von NAO gesprochen wird."
   ]
  },
  {
   "cell_type": "markdown",
   "metadata": {},
   "source": [
    "#### setParameter  "
   ]
  },
  {
   "cell_type": "markdown",
   "metadata": {},
   "source": [
    "**pitchShift**\n",
    "- bewirkt eine Tonhöhenverschiebung \n",
    "- zulässiger Bereich: 1.0 – 4\n",
    "- 0 schaltet Effekt aus\n"
   ]
  },
  {
   "cell_type": "code",
   "execution_count": 7,
   "metadata": {},
   "outputs": [],
   "source": [
    "text.setParameter(\"pitchShift\", 2.0)\n",
    "text.say(mead)"
   ]
  },
  {
   "cell_type": "code",
   "execution_count": 8,
   "metadata": {},
   "outputs": [],
   "source": [
    "text.setParameter(\"pitchShift\", 0)\n",
    "text.say(mead)"
   ]
  },
  {
   "cell_type": "markdown",
   "metadata": {},
   "source": [
    "**speed**\n",
    "- regelt Geschwindigkeit der Stimme\n",
    "- Standardwert: 100\n",
    "- zulässiger Bereich: 50 - 400\n"
   ]
  },
  {
   "cell_type": "code",
   "execution_count": 9,
   "metadata": {},
   "outputs": [],
   "source": [
    "text.setParameter(\"speed\", 50)\n",
    "text.say(mandela)"
   ]
  },
  {
   "cell_type": "code",
   "execution_count": 10,
   "metadata": {},
   "outputs": [],
   "source": [
    "text.setParameter(\"speed\", 100)\n",
    "text.say(mandela)"
   ]
  },
  {
   "cell_type": "markdown",
   "metadata": {},
   "source": [
    "#### setVolume\n",
    "\n",
    "- regelt die Sprachlautstärke\n",
    "- Standardwert: 1.0\n"
   ]
  },
  {
   "cell_type": "code",
   "execution_count": 11,
   "metadata": {},
   "outputs": [],
   "source": [
    "text.setVolume(0.3)\n",
    "text.say(disney)"
   ]
  },
  {
   "cell_type": "code",
   "execution_count": 12,
   "metadata": {},
   "outputs": [],
   "source": [
    "text.setVolume(1.0)\n",
    "text.say(disney)"
   ]
  },
  {
   "cell_type": "markdown",
   "metadata": {},
   "source": [
    "#### Tags  \n",
    "\n",
    "Der Einsatz von Tags (im Format `\\\\tag=Wert\\\\`) erlaubt es, bestimmte Veränderungen der Stimme innerhalb eines Textes durchzuführen."
   ]
  },
  {
   "cell_type": "markdown",
   "metadata": {},
   "source": [
    "**Einstellung zurücksetzen: \\\\rst\\\\**\n",
    "- setzt vorgenommene Änderungen zurück\n"
   ]
  },
  {
   "cell_type": "markdown",
   "metadata": {},
   "source": [
    "**Tonhöhe wechseln: \\\\vct=value\\\\**\n",
    "- Tonhöhenwert in Prozent\n",
    "- Standardwert: 100\n",
    "- zulässiger Bereich: 50 – 200\n"
   ]
  },
  {
   "cell_type": "code",
   "execution_count": 13,
   "metadata": {},
   "outputs": [],
   "source": [
    "text.say(\"\\\\vct=50\\\\ Tell me and I forget. \\\\vct=200\\\\ Teach me and I remember. \\\\vct=100\\\\ Involve me and I learn.\")"
   ]
  },
  {
   "cell_type": "markdown",
   "metadata": {},
   "source": [
    "**Sprechgeschwindigkeit: \\\\rspd=value\\\\**\n",
    "- Geschwindigkeit in Prozent\n",
    "- Standardwert: 100\n",
    "- zulässiger Bereich: 50 – 400\n"
   ]
  },
  {
   "cell_type": "code",
   "execution_count": 14,
   "metadata": {},
   "outputs": [],
   "source": [
    "text.say(\"The speed of communications is wondrous to behold. It is also true that speed can \\\\rspd=300\\\\ multiply the distribution of information that we know \\\\rst\\\\ to be untrue.\")"
   ]
  },
  {
   "cell_type": "markdown",
   "metadata": {},
   "source": [
    "**Sprechpausen: \\\\pau=value\\\\**\n",
    "- Dauer in Millisekunden\n"
   ]
  },
  {
   "cell_type": "code",
   "execution_count": 15,
   "metadata": {},
   "outputs": [],
   "source": [
    "text.say(\"Comedy is all about \\\\pau=2000\\\\ the pause.\")"
   ]
  },
  {
   "cell_type": "markdown",
   "metadata": {},
   "source": [
    "---"
   ]
  },
  {
   "cell_type": "markdown",
   "metadata": {},
   "source": [
    "### Übung\n",
    "  \n",
    "Lassen Sie Nao das Gedicht \"I'm a little Teapot\" von *George Harold Sanders* aufsagen.  \n",
    "Achten Sie auf die rhythmischen Pausen und versuchen Sie, die direkte Rede hörbar umzusetzen. \n",
    "\n",
    "I’m a little teapot <br>\n",
    "Short and stout <br>\n",
    "Here is my handle <br>\n",
    "Here is my spout <br>\n",
    "\n",
    "When I get all steamed up <br>\n",
    "Hear me shout <br>\n",
    "“Tip me over <br>\n",
    "and pour me out!” <br>\n",
    "\n",
    "I’m a clever teapot, <br>\n",
    "Yes, it’s true <br>\n",
    "Here let me show you <br>\n",
    "What I can do <br>\n",
    "\n",
    "I can change my handle <br>\n",
    "And my spout <br>\n",
    "Just tip me over and pour me out! <br>"
   ]
  },
  {
   "cell_type": "code",
   "execution_count": null,
   "metadata": {},
   "outputs": [],
   "source": [
    "text.say(\"...\")"
   ]
  },
  {
   "cell_type": "markdown",
   "metadata": {
    "vscode": {
     "languageId": "plaintext"
    }
   },
   "source": [
    "---"
   ]
  },
  {
   "cell_type": "markdown",
   "metadata": {},
   "source": [
    "## ALAnimatedSpeech"
   ]
  },
  {
   "cell_type": "markdown",
   "metadata": {},
   "source": [
    "Dieses Modul fügt dem Roboter beim Sprechen Gestik hinzu.  \n",
    "\n",
    "Die Bewegungen können entweder zufällig oder kontextuell sein, aber auch ganz deaktiviert werden.  \n",
    "\n",
    "Die mittels `^mode` übergebenen Befehle gelten jeweils nur für den betreffenden Text und wirken sich nicht global aus. Als Standard bewegt sich Nao kontextuell.  \n",
    "\n",
    "**^mode(disabled, random, contextual)**\n"
   ]
  },
  {
   "cell_type": "markdown",
   "metadata": {},
   "source": [
    "Erstellen des Brokers für dieses Modul: "
   ]
  },
  {
   "cell_type": "code",
   "execution_count": 16,
   "metadata": {},
   "outputs": [],
   "source": [
    "asp = \"ALAnimatedSpeech\"\n",
    "ansp = ALProxy(asp, NAOIP, PORT)"
   ]
  },
  {
   "cell_type": "code",
   "execution_count": 17,
   "metadata": {},
   "outputs": [],
   "source": [
    "ansp.say(\"Hello, ^mode(disabled) I don't need to move the whole time, ^mode(contextual) but I can.\")"
   ]
  },
  {
   "cell_type": "markdown",
   "metadata": {},
   "source": [
    "-----"
   ]
  },
  {
   "cell_type": "markdown",
   "metadata": {},
   "source": [
    "### Übung\n",
    "  \n",
    "Kopieren Sie sich Ihre Version des Gedichts aus der vorherigen Übung in die folgende Codezeile.  \n",
    "Führen Sie sie nun mit den drei möglichen Einstellmodi für die Bewegungen aus.  \n",
    "\n",
    "Wie wirkt sich die jeweilige Gestik auf die Darstellung aus?"
   ]
  },
  {
   "cell_type": "code",
   "execution_count": null,
   "metadata": {},
   "outputs": [],
   "source": [
    "text.say(\"^mode(disabled)...\")"
   ]
  },
  {
   "cell_type": "code",
   "execution_count": null,
   "metadata": {},
   "outputs": [],
   "source": [
    "text.say(\"^mode(random)...\")"
   ]
  },
  {
   "cell_type": "code",
   "execution_count": null,
   "metadata": {},
   "outputs": [],
   "source": [
    "text.say(\"^mode(contextual)...\")"
   ]
  },
  {
   "cell_type": "markdown",
   "metadata": {},
   "source": [
    "----"
   ]
  }
 ],
 "metadata": {
  "interpreter": {
   "hash": "c41245681b0c5dfdc198064911b7c792a0421ee2cbedc4ec4c9079156fd03e41"
  },
  "kernelspec": {
   "display_name": "Python 2.7.18 64-bit (system)",
   "language": "python",
   "name": "python3"
  },
  "language_info": {
   "codemirror_mode": {
    "name": "ipython",
    "version": 2
   },
   "file_extension": ".py",
   "mimetype": "text/x-python",
   "name": "python",
   "nbconvert_exporter": "python",
   "pygments_lexer": "ipython2",
   "version": "2.7.18"
  },
  "orig_nbformat": 4
 },
 "nbformat": 4,
 "nbformat_minor": 2
}
