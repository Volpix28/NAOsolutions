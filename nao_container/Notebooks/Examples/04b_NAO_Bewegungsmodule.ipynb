{
 "cells": [
  {
   "cell_type": "markdown",
   "metadata": {},
   "source": [
    "# Bewegungsmodule"
   ]
  },
  {
   "cell_type": "markdown",
   "metadata": {},
   "source": [
    "Nao bewegt sich mit Hilfe von Gelenken und Motoren.  \n",
    "\n",
    "Damit können unzählige Bewegungskombinationen erstellt werden.  \n",
    "\n",
    "Der Roboter verfügt aber auch über bestimmte vordefinierte Positionen und Bewegungen.  \n",
    "\n",
    "Diese können mit den Bewegungsmodulen gesteuert werden."
   ]
  },
  {
   "cell_type": "markdown",
   "metadata": {},
   "source": [
    "## ALRobotPosture"
   ]
  },
  {
   "cell_type": "markdown",
   "metadata": {},
   "source": [
    "Mit diesem Modul lässt sich Nao in eine bestimmte Position bewegen.  \n",
    "\n",
    "Dafür eruiert er zuerst, in welcher Position er sich gerade befindet und berechnet die nötigen Bewegungen, um in die zu erreichende Position zu wechseln.  \n",
    "\n",
    "Die einnehmbaren Positionen sind aufgrund der Unmenge an möglichen Kombinationen in sogenannte Positionsfamilien unterteilt (ua Sitting, Standing, Crouching,…)."
   ]
  },
  {
   "cell_type": "markdown",
   "metadata": {},
   "source": [
    "Wurde die Session in der Zwischenzeit beendet, dann muss noch einmal das ALProxy-Modul importiert werden:"
   ]
  },
  {
   "cell_type": "code",
   "execution_count": 2,
   "metadata": {},
   "outputs": [],
   "source": [
    "from naoqi import ALProxy"
   ]
  },
  {
   "cell_type": "markdown",
   "metadata": {},
   "source": [
    "Zur Erinnerung: Der Aufbau für den Befehl, mit dem über ALProxy auf die Module zugegriffen wird, sieht folgendermaßen aus:  \n",
    "\n",
    "**ALProxy(Modulname, IP-Adresse, Port)**  \n"
   ]
  },
  {
   "cell_type": "code",
   "execution_count": 1,
   "metadata": {},
   "outputs": [],
   "source": [
    "# WAS? -> Modulname\n",
    "rps = 'ALRobotPosture'"
   ]
  },
  {
   "cell_type": "code",
   "execution_count": 3,
   "metadata": {},
   "outputs": [],
   "source": [
    "# WER? -> NAO-Adresse\n",
    "NAOIP = '169.254.30.252'     # IP-Adresse bei Bedarf erneut abrufen und ggf. korrigieren  "
   ]
  },
  {
   "cell_type": "code",
   "execution_count": 4,
   "metadata": {},
   "outputs": [],
   "source": [
    "# WIE? -> Netzwerk-Port\n",
    "PORT = 9559"
   ]
  },
  {
   "cell_type": "markdown",
   "metadata": {},
   "source": [
    "Broker für ALRobotPosture:  "
   ]
  },
  {
   "cell_type": "code",
   "execution_count": 6,
   "metadata": {},
   "outputs": [],
   "source": [
    "ropo = ALProxy(rps, NAOIP, PORT)"
   ]
  },
  {
   "cell_type": "markdown",
   "metadata": {},
   "source": [
    "### Methoden aufrufen"
   ]
  },
  {
   "cell_type": "markdown",
   "metadata": {},
   "source": [
    "#### getPostureList  \n",
    "\n",
    "Um zu wissen, welche vordefinierten Positionen Nao einnehmen kann, ist es sinnvoll, zuerst diese mit der Methode getPostureList abzurufen."
   ]
  },
  {
   "cell_type": "code",
   "execution_count": 7,
   "metadata": {},
   "outputs": [],
   "source": [
    "postlist = ropo.getPostureList()"
   ]
  },
  {
   "cell_type": "markdown",
   "metadata": {},
   "source": [
    "Es wäre auch möglich, die Liste der verfügbaren Posten ausschließlich mit dem Befehl `ropo.getPostureList()` auszuführen und abzurufen.  \n",
    "Allerdings müsste dann jedesmal wieder der ganze Befehl eingegeben werden, sollte die Liste später noch einmal benötigt werden.   \n",
    "Daher ist es sinnvoll, auch hier wieder eine Variable zu vergeben.   \n",
    "Wird die Posture-Liste später benötigt, reicht es, die Variable in einen Codeblock zu schreiben und diesen auszuführen. "
   ]
  },
  {
   "cell_type": "code",
   "execution_count": 8,
   "metadata": {},
   "outputs": [
    {
     "data": {
      "text/plain": [
       "['Crouch',\n",
       " 'LyingBack',\n",
       " 'LyingBelly',\n",
       " 'Sit',\n",
       " 'SitRelax',\n",
       " 'Stand',\n",
       " 'StandInit',\n",
       " 'StandZero']"
      ]
     },
     "execution_count": 8,
     "metadata": {},
     "output_type": "execute_result"
    }
   ],
   "source": [
    "postlist"
   ]
  },
  {
   "cell_type": "markdown",
   "metadata": {},
   "source": [
    "Es sollten nun die standardmäßig installierten Positionen ['Crouch', 'LyingBack', 'LyingBelly', 'Sit', 'SitRelax', 'Stand', 'StandInit', 'StandZero'] ausgegeben werden. "
   ]
  },
  {
   "cell_type": "markdown",
   "metadata": {},
   "source": [
    "#### getPosture  \n",
    "\n",
    "Mit dieser Methode lässt sich ausgeben, in welcher Position sich Nao aktuell befindet.  \n",
    "\n",
    "Ist die aktuelle Position nicht in der vordefinierten Liste, wird als String (=Textzeichenfolge) „unknown“ ausgegeben."
   ]
  },
  {
   "cell_type": "code",
   "execution_count": 9,
   "metadata": {},
   "outputs": [
    {
     "data": {
      "text/plain": [
       "'Crouch'"
      ]
     },
     "execution_count": 9,
     "metadata": {},
     "output_type": "execute_result"
    }
   ],
   "source": [
    "ropo.getPosture()"
   ]
  },
  {
   "cell_type": "markdown",
   "metadata": {},
   "source": [
    "#### goToPosture  \n",
    "\n",
    "Für einen Wechsel in eine andere Position (siehe postlist), wird die Methode goToPosture angewendet: \n",
    "- **goToPosture(postureName, speed)**\n",
    "    - postureName: string, Name der vordefinierten Position\n",
    "    - speed: float (0.0 - 1.0), Geschwindigkeit, mit der die Position eingenommen wird"
   ]
  },
  {
   "cell_type": "code",
   "execution_count": 10,
   "metadata": {},
   "outputs": [
    {
     "data": {
      "text/plain": [
       "True"
      ]
     },
     "execution_count": 10,
     "metadata": {},
     "output_type": "execute_result"
    }
   ],
   "source": [
    "ropo.goToPosture(\"Sit\", 1.0)"
   ]
  },
  {
   "cell_type": "markdown",
   "metadata": {},
   "source": [
    "---"
   ]
  },
  {
   "cell_type": "markdown",
   "metadata": {},
   "source": [
    "### Übung\n",
    "  \n",
    "Welche Positionen könnten für welche Aufgaben sinnvoll sein?  \n",
    "\n",
    "zB: \"SitRelax\" für Situationen, in denen Nao einer nur zuhörenden Aufgabe nachgeht (zB Vokabelabfrage)  \n",
    "\n",
    "Probieren Sie alle verfügbaren Posen aus und testen Sie die Bewegungen mit unterschiedlichen Geschwindigkeiten.  \n",
    "Gibt es Positionswechsel, bei denen sich Nao eher schneller oder langsamer bewegen sollte?  \n",
    "\n",
    "Ist es beim Ausprobieren einfacher, mit Variablen zu arbeiten, oder die Funktionen direkt zu übergeben und die Parameter dabei anzupassen?  \n",
    "Worin liegen jeweils die Vor- und Nachteile beider Zugänge?"
   ]
  },
  {
   "cell_type": "code",
   "execution_count": 11,
   "metadata": {},
   "outputs": [
    {
     "data": {
      "text/plain": [
       "['Crouch',\n",
       " 'LyingBack',\n",
       " 'LyingBelly',\n",
       " 'Sit',\n",
       " 'SitRelax',\n",
       " 'Stand',\n",
       " 'StandInit',\n",
       " 'StandZero']"
      ]
     },
     "execution_count": 11,
     "metadata": {},
     "output_type": "execute_result"
    }
   ],
   "source": [
    "postlist"
   ]
  },
  {
   "cell_type": "code",
   "execution_count": 12,
   "metadata": {},
   "outputs": [
    {
     "data": {
      "text/plain": [
       "True"
      ]
     },
     "execution_count": 12,
     "metadata": {},
     "output_type": "execute_result"
    }
   ],
   "source": [
    "ropo.goToPosture(\"StandInit\", 0.6)"
   ]
  },
  {
   "cell_type": "code",
   "execution_count": 13,
   "metadata": {},
   "outputs": [],
   "source": [
    "stand1 = ropo.goToPosture(\"StandInit\", 0.6)"
   ]
  },
  {
   "cell_type": "code",
   "execution_count": 14,
   "metadata": {},
   "outputs": [
    {
     "data": {
      "text/plain": [
       "True"
      ]
     },
     "execution_count": 14,
     "metadata": {},
     "output_type": "execute_result"
    }
   ],
   "source": [
    "stand1"
   ]
  },
  {
   "cell_type": "markdown",
   "metadata": {},
   "source": [
    "---"
   ]
  },
  {
   "cell_type": "markdown",
   "metadata": {},
   "source": [
    "## ALMotion"
   ]
  },
  {
   "cell_type": "markdown",
   "metadata": {},
   "source": [
    "Mit diesem Modul lassen sich vier grundlegende Bewegungsfunktionen steuern:  \n",
    "\n",
    "- Joint stiffness (Motor an oder aus)\n",
    "- Joint position (Positionierung der einzelnen Gelenke)\n",
    "- Walk (Bewegungssteuerung: Entfernung, Geschwindigkeit, Richtung,…)\n",
    "- Robot effector in cartasian space (animierte oder reaktive Bewegungen)  \n",
    "\n",
    "**Achsen**:\n",
    "- X: horizontal nach vorne  \n",
    "- Y: horizontal zur Seite  \n",
    "- Z: vertikal  "
   ]
  },
  {
   "cell_type": "markdown",
   "metadata": {},
   "source": [
    "Erstellen des Brokers für dieses Modul: "
   ]
  },
  {
   "cell_type": "code",
   "execution_count": 15,
   "metadata": {},
   "outputs": [],
   "source": [
    "mtn = \"ALMotion\"\n",
    "moto = ALProxy(mtn, NAOIP, PORT)"
   ]
  },
  {
   "cell_type": "markdown",
   "metadata": {},
   "source": [
    "#### wake up / rest"
   ]
  },
  {
   "cell_type": "markdown",
   "metadata": {},
   "source": [
    "- **wakeUp()**\n",
    "    - aktiviert Motor\n",
    "    - bewegt sich in initiale Standposition"
   ]
  },
  {
   "cell_type": "code",
   "execution_count": 18,
   "metadata": {},
   "outputs": [
    {
     "data": {
      "text/plain": [
       "True"
      ]
     },
     "execution_count": 18,
     "metadata": {},
     "output_type": "execute_result"
    }
   ],
   "source": [
    "moto.wakeUp()"
   ]
  },
  {
   "cell_type": "markdown",
   "metadata": {},
   "source": [
    "- **rest()**\n",
    "    - bewegt sich in hockende Position\n",
    "    - deaktiviert Motoren"
   ]
  },
  {
   "cell_type": "code",
   "execution_count": 25,
   "metadata": {},
   "outputs": [],
   "source": [
    "moto.rest()"
   ]
  },
  {
   "cell_type": "markdown",
   "metadata": {},
   "source": [
    "#### open / close Hands"
   ]
  },
  {
   "cell_type": "markdown",
   "metadata": {},
   "source": [
    "- **closeHand(handName)**\n",
    "    - schließt die ausgewählte Hand\n",
    "    - handName = `RHand` oder `LHand`"
   ]
  },
  {
   "cell_type": "code",
   "execution_count": 19,
   "metadata": {},
   "outputs": [],
   "source": [
    "moto.closeHand(\"RHand\")"
   ]
  },
  {
   "cell_type": "markdown",
   "metadata": {},
   "source": [
    "- **openHand(handName)**\n",
    "    - öffnet die ausgewählte Hand\n",
    "    - handName = `Rhand`oder `LHand`"
   ]
  },
  {
   "cell_type": "code",
   "execution_count": 20,
   "metadata": {},
   "outputs": [],
   "source": [
    "moto.openHand(\"RHand\")"
   ]
  },
  {
   "cell_type": "markdown",
   "metadata": {},
   "source": [
    "#### move / stop move / move to"
   ]
  },
  {
   "cell_type": "markdown",
   "metadata": {},
   "source": [
    "- **move(x,y,theta)**\n",
    "    - floats\n",
    "    - Nao bewegt sich, bis von UserIn unterbrochen (stopMove)\n",
    "    - x: Geschwindigkeit entlang der x-Achse in m/s (Negativwerte = Rückwärtsbewegung)\n",
    "    - y: Geschwindigkeit entlang der y-Achse in m/s (positiv = links, negativ = rechts)\n",
    "    - theta: Geschwindigkeit entlang der z-Achse in radius/s (negativ = im Uhrzeigersinn)\n"
   ]
  },
  {
   "cell_type": "code",
   "execution_count": 21,
   "metadata": {},
   "outputs": [],
   "source": [
    "moto.move(0.2, 0.0, 0.0)"
   ]
  },
  {
   "cell_type": "markdown",
   "metadata": {},
   "source": [
    "- **stopMove()**\n",
    "    - stoppt die aktuelle Bewegung"
   ]
  },
  {
   "cell_type": "code",
   "execution_count": 24,
   "metadata": {},
   "outputs": [
    {
     "data": {
      "text/plain": [
       "False"
      ]
     },
     "execution_count": 24,
     "metadata": {},
     "output_type": "execute_result"
    }
   ],
   "source": [
    "moto.stopMove()"
   ]
  },
  {
   "cell_type": "markdown",
   "metadata": {},
   "source": [
    "- **moveTo(x,y,theta)**\n",
    "    - Nao bewegt sich, bis vorgegebener Punkt erreicht ist\n",
    "    - x: Entfernung entlang der x-Achse in m\n",
    "    - y: Entfernung entlang der y-Achse in m\n",
    "    - theta: Rotation entlang der z-Achse [-3.1415 bis 3.1415]"
   ]
  },
  {
   "cell_type": "code",
   "execution_count": 23,
   "metadata": {},
   "outputs": [
    {
     "data": {
      "text/plain": [
       "True"
      ]
     },
     "execution_count": 23,
     "metadata": {},
     "output_type": "execute_result"
    }
   ],
   "source": [
    "moto.moveTo(1.0, 0.0, -1.0)"
   ]
  },
  {
   "cell_type": "markdown",
   "metadata": {},
   "source": [
    "-----"
   ]
  },
  {
   "cell_type": "markdown",
   "metadata": {},
   "source": [
    "### Übung\n",
    "  \n",
    "Überlegen Sie sich einen einfachen Parkour für NAO und versuchen Sie, ihn diesen mit Hilfe der Bewegungsmodule ablaufen zu lassen.  "
   ]
  },
  {
   "cell_type": "code",
   "execution_count": null,
   "metadata": {},
   "outputs": [],
   "source": [
    "ropo.goToPosture(\"StandInit\", 1.0)\n",
    "moto.moveTo(0.0, 0.0, 0.0)\n",
    "...\n",
    "ropo.goToPosture(\"Crouch\", 0.5)"
   ]
  },
  {
   "cell_type": "markdown",
   "metadata": {},
   "source": [
    "----"
   ]
  },
  {
   "cell_type": "markdown",
   "metadata": {},
   "source": [
    "## ALBehaviorManager"
   ]
  },
  {
   "cell_type": "markdown",
   "metadata": {},
   "source": [
    "Mit diesem Modul werden\n",
    "- Behaviors geladen, gestartet und gestoppt,\n",
    "- Standard-Verhaltensweisen verwaltet,\n",
    "- Informationen über Behaviors abgerufen.\n",
    "Ein Behavior ist eine vordefinierte Abfolge von Bewegungen (und manchmal auch Audiosignalen), die einer bestimmten menschlich annotierten Verhaltensweise zugeordnet werden kann (z.B. Arme vor Körper = Abwehrhaltung)."
   ]
  },
  {
   "cell_type": "markdown",
   "metadata": {},
   "source": [
    "Erstellen des Brokers für dieses Modul: "
   ]
  },
  {
   "cell_type": "code",
   "execution_count": 26,
   "metadata": {},
   "outputs": [],
   "source": [
    "beh = \"ALBehaviorManager\"\n",
    "beha = ALProxy(beh, NAOIP, PORT)"
   ]
  },
  {
   "cell_type": "markdown",
   "metadata": {},
   "source": [
    "Die Liste an vordefinierten Verhaltensweisen für NAO ist lang.   \n",
    "\n",
    "Der Einfachheit halber wurde die Ausgabe des folgenden Befehls daher bereits in einer Excel-Datei abgespeichert. "
   ]
  },
  {
   "cell_type": "code",
   "execution_count": 27,
   "metadata": {},
   "outputs": [
    {
     "data": {
      "text/plain": [
       "['.lastUploadedChoregrapheBehavior/behavior_1',\n",
       " 'aldebaran_auto_diagnostic-fe5347',\n",
       " 'animationMode',\n",
       " 'animations/LED/CircleEyes',\n",
       " 'animations/Sit/BodyTalk/Listening/Listening_1',\n",
       " 'animations/Sit/BodyTalk/Listening/Listening_2',\n",
       " 'animations/Sit/BodyTalk/Listening/Listening_3',\n",
       " 'animations/Sit/BodyTalk/Listening/Listening_4',\n",
       " 'animations/Sit/BodyTalk/BodyLanguage/BodyTalk_1',\n",
       " 'animations/Sit/BodyTalk/BodyLanguage/BodyTalk_10',\n",
       " 'animations/Sit/BodyTalk/BodyLanguage/BodyTalk_11',\n",
       " 'animations/Sit/BodyTalk/BodyLanguage/BodyTalk_12',\n",
       " 'animations/Sit/BodyTalk/BodyLanguage/BodyTalk_2',\n",
       " 'animations/Sit/BodyTalk/BodyLanguage/BodyTalk_3',\n",
       " 'animations/Sit/BodyTalk/BodyLanguage/BodyTalk_4',\n",
       " 'animations/Sit/BodyTalk/BodyLanguage/BodyTalk_5',\n",
       " 'animations/Sit/BodyTalk/BodyLanguage/BodyTalk_6',\n",
       " 'animations/Sit/BodyTalk/BodyLanguage/BodyTalk_7',\n",
       " 'animations/Sit/BodyTalk/BodyLanguage/BodyTalk_8',\n",
       " 'animations/Sit/BodyTalk/BodyLanguage/BodyTalk_9',\n",
       " 'animations/Sit/BodyTalk/Speaking/BodyTalk_1',\n",
       " 'animations/Sit/BodyTalk/Speaking/BodyTalk_10',\n",
       " 'animations/Sit/BodyTalk/Speaking/BodyTalk_11',\n",
       " 'animations/Sit/BodyTalk/Speaking/BodyTalk_12',\n",
       " 'animations/Sit/BodyTalk/Speaking/BodyTalk_2',\n",
       " 'animations/Sit/BodyTalk/Speaking/BodyTalk_3',\n",
       " 'animations/Sit/BodyTalk/Speaking/BodyTalk_4',\n",
       " 'animations/Sit/BodyTalk/Speaking/BodyTalk_5',\n",
       " 'animations/Sit/BodyTalk/Speaking/BodyTalk_6',\n",
       " 'animations/Sit/BodyTalk/Speaking/BodyTalk_7',\n",
       " 'animations/Sit/BodyTalk/Speaking/BodyTalk_8',\n",
       " 'animations/Sit/BodyTalk/Speaking/BodyTalk_9',\n",
       " 'animations/Sit/BodyTalk/Thinking/Remember_1',\n",
       " 'animations/Sit/BodyTalk/Thinking/Remember_2',\n",
       " 'animations/Sit/BodyTalk/Thinking/Remember_3',\n",
       " 'animations/Sit/BodyTalk/Thinking/ThinkingLoop_1',\n",
       " 'animations/Sit/BodyTalk/Thinking/ThinkingLoop_2',\n",
       " 'animations/Sit/Emotions/Negative/Angry_1',\n",
       " 'animations/Sit/Emotions/Negative/Fear_1',\n",
       " 'animations/Sit/Emotions/Negative/Frustrated_1',\n",
       " 'animations/Sit/Emotions/Negative/Hurt_1',\n",
       " 'animations/Sit/Emotions/Negative/Late_1',\n",
       " 'animations/Sit/Emotions/Negative/Sad_1',\n",
       " 'animations/Sit/Emotions/Negative/Surprise_1',\n",
       " 'animations/Sit/Emotions/Neutral/AskForAttention_1',\n",
       " 'animations/Sit/Emotions/Neutral/AskForAttention_2',\n",
       " 'animations/Sit/Emotions/Neutral/AskForAttention_3',\n",
       " 'animations/Sit/Emotions/Neutral/Sneeze_1',\n",
       " 'animations/Sit/Emotions/Positive/Happy_1',\n",
       " 'animations/Sit/Emotions/Positive/Happy_2',\n",
       " 'animations/Sit/Emotions/Positive/Happy_3',\n",
       " 'animations/Sit/Emotions/Positive/Happy_4',\n",
       " 'animations/Sit/Emotions/Positive/Hungry_1',\n",
       " 'animations/Sit/Emotions/Positive/Laugh_1',\n",
       " 'animations/Sit/Emotions/Positive/Laugh_2',\n",
       " 'animations/Sit/Emotions/Positive/Mocker_1',\n",
       " 'animations/Sit/Emotions/Positive/Shy_1',\n",
       " 'animations/Sit/Emotions/Positive/Winner_1',\n",
       " 'animations/Sit/Gestures/ComeOn_1',\n",
       " 'animations/Sit/Gestures/Hey_3',\n",
       " 'animations/Sit/Gestures/Me_7',\n",
       " 'animations/Sit/Gestures/You_4',\n",
       " 'animations/Sit/Reactions/BumperLeft_1',\n",
       " 'animations/Sit/Reactions/BumperRight_1',\n",
       " 'animations/Sit/Reactions/Bumpers_1',\n",
       " 'animations/Sit/Reactions/Bumpers_2',\n",
       " 'animations/Sit/Reactions/Bumpers_3',\n",
       " 'animations/Sit/Reactions/EthernetOff_1',\n",
       " 'animations/Sit/Reactions/EthernetOn_1',\n",
       " 'animations/Sit/Reactions/Heat_1',\n",
       " 'animations/Sit/Reactions/LightShine_1',\n",
       " 'animations/Sit/Reactions/LightShine_2',\n",
       " 'animations/Sit/Reactions/LightShine_3',\n",
       " 'animations/Sit/Reactions/LightShine_4',\n",
       " 'animations/Sit/Reactions/SeeColor_1',\n",
       " 'animations/Sit/Reactions/SeeColor_2',\n",
       " 'animations/Sit/Reactions/SeeColor_3',\n",
       " 'animations/Sit/Reactions/ShakeBody_1',\n",
       " 'animations/Sit/Reactions/ShakeBody_2',\n",
       " 'animations/Sit/Reactions/ShakeBody_3',\n",
       " 'animations/Sit/Reactions/TouchHead_1',\n",
       " 'animations/Sit/Reactions/TouchHead_2',\n",
       " 'animations/Sit/Reactions/TouchHead_3',\n",
       " 'animations/Sit/Reactions/TouchHead_4',\n",
       " 'animations/Sit/Waiting/AutoFormat_1',\n",
       " 'animations/Sit/Waiting/Binoculars_1',\n",
       " 'animations/Sit/Waiting/Bored_1',\n",
       " 'animations/Sit/Waiting/CallSomeone_1',\n",
       " 'animations/Sit/Waiting/CatchFly_1',\n",
       " 'animations/Sit/Waiting/Cramp_1',\n",
       " 'animations/Sit/Waiting/DriveCar_1',\n",
       " 'animations/Sit/Waiting/FalseStop_1',\n",
       " 'animations/Sit/Waiting/FalseStop_2',\n",
       " 'animations/Sit/Waiting/Fitness_1',\n",
       " 'animations/Sit/Waiting/GeoCircle_1',\n",
       " 'animations/Sit/Waiting/GeoSquare_1',\n",
       " 'animations/Sit/Waiting/GeoTriangle_1',\n",
       " 'animations/Sit/Waiting/KnockEye_1',\n",
       " 'animations/Sit/Waiting/KnockKnee_1',\n",
       " 'animations/Sit/Waiting/KnockKnee_2',\n",
       " 'animations/Sit/Waiting/LookHand_1',\n",
       " 'animations/Sit/Waiting/LookHand_2',\n",
       " 'animations/Sit/Waiting/Music_HighwayToHell_1',\n",
       " 'animations/Sit/Waiting/Music_VieEnRose_1',\n",
       " 'animations/Sit/Waiting/MysticalPower_1',\n",
       " 'animations/Sit/Waiting/Oar_1',\n",
       " 'animations/Sit/Waiting/Phone_1',\n",
       " 'animations/Sit/Waiting/PlayHands_1',\n",
       " 'animations/Sit/Waiting/PlayHands_2',\n",
       " 'animations/Sit/Waiting/PlayHands_3',\n",
       " 'animations/Sit/Waiting/Pong_1',\n",
       " 'animations/Sit/Waiting/PoorlySeated_1',\n",
       " 'animations/Sit/Waiting/Puppet_1',\n",
       " 'animations/Sit/Waiting/Relaxation_1',\n",
       " 'animations/Sit/Waiting/Relaxation_2',\n",
       " 'animations/Sit/Waiting/Relaxation_3',\n",
       " 'animations/Sit/Waiting/Rest_1',\n",
       " 'animations/Sit/Waiting/Robot_1',\n",
       " 'animations/Sit/Waiting/ScratchBack_1',\n",
       " 'animations/Sit/Waiting/ScratchEye_1',\n",
       " 'animations/Sit/Waiting/ScratchHand_1',\n",
       " 'animations/Sit/Waiting/ScratchHead_1',\n",
       " 'animations/Sit/Waiting/ScratchLeg_1',\n",
       " 'animations/Sit/Waiting/ScratchTorso_1',\n",
       " 'animations/Sit/Waiting/TakePicture_1',\n",
       " 'animations/Sit/Waiting/Think_1',\n",
       " 'animations/Sit/Waiting/Think_2',\n",
       " 'animations/Sit/Waiting/Think_3',\n",
       " 'animations/Sit/Waiting/WakeUp_1',\n",
       " 'animations/Sit/Waiting/Yawn_1',\n",
       " 'animations/Sit/Waiting/ZenCircles_1',\n",
       " 'animations/SitOnPod/BodyTalk/Listening/Listening_1',\n",
       " 'animations/SitOnPod/BodyTalk/Listening/Listening_2',\n",
       " 'animations/SitOnPod/BodyTalk/Listening/Listening_3',\n",
       " 'animations/SitOnPod/BodyTalk/Listening/Listening_4',\n",
       " 'animations/SitOnPod/BodyTalk/Listening/Listening_5',\n",
       " 'animations/SitOnPod/BodyTalk/Listening/Listening_6',\n",
       " 'animations/SitOnPod/BodyTalk/Listening/Listening_7',\n",
       " 'animations/SitOnPod/BodyTalk/Listening/Listening_8',\n",
       " 'animations/SitOnPod/BodyTalk/Speaking/BodyTalk_1',\n",
       " 'animations/SitOnPod/BodyTalk/Speaking/BodyTalk_10',\n",
       " 'animations/SitOnPod/BodyTalk/Speaking/BodyTalk_11',\n",
       " 'animations/SitOnPod/BodyTalk/Speaking/BodyTalk_12',\n",
       " 'animations/SitOnPod/BodyTalk/Speaking/BodyTalk_2',\n",
       " 'animations/SitOnPod/BodyTalk/Speaking/BodyTalk_3',\n",
       " 'animations/SitOnPod/BodyTalk/Speaking/BodyTalk_4',\n",
       " 'animations/SitOnPod/BodyTalk/Speaking/BodyTalk_5',\n",
       " 'animations/SitOnPod/BodyTalk/Speaking/BodyTalk_6',\n",
       " 'animations/SitOnPod/BodyTalk/Speaking/BodyTalk_7',\n",
       " 'animations/SitOnPod/BodyTalk/Speaking/BodyTalk_8',\n",
       " 'animations/SitOnPod/BodyTalk/Speaking/BodyTalk_9',\n",
       " 'animations/SitOnPod/BodyTalk/Thinking/Remember_1',\n",
       " 'animations/SitOnPod/BodyTalk/Thinking/Remember_2',\n",
       " 'animations/SitOnPod/BodyTalk/Thinking/Remember_3',\n",
       " 'animations/SitOnPod/BodyTalk/Thinking/ThinkingLoop_1',\n",
       " 'animations/SitOnPod/BodyTalk/Thinking/ThinkingLoop_2',\n",
       " 'animations/SitOnPod/Emotions/Neutral/Hello_1',\n",
       " 'animations/SitOnPod/Gestures/Choice_1',\n",
       " 'animations/SitOnPod/Gestures/CountThree_1',\n",
       " 'animations/SitOnPod/Gestures/CountThree_2',\n",
       " 'animations/SitOnPod/Gestures/CountTwo_1',\n",
       " 'animations/SitOnPod/Gestures/CountTwo_2',\n",
       " 'animations/SitOnPod/Gestures/Everything_1',\n",
       " 'animations/SitOnPod/Gestures/Everything_2',\n",
       " 'animations/SitOnPod/Gestures/Everything_3',\n",
       " 'animations/SitOnPod/Gestures/Everything_4',\n",
       " 'animations/SitOnPod/Gestures/Everything_6',\n",
       " 'animations/SitOnPod/Gestures/HeSays_1',\n",
       " 'animations/SitOnPod/Gestures/HeSays_2',\n",
       " 'animations/SitOnPod/Gestures/HeSays_3',\n",
       " 'animations/SitOnPod/Gestures/Hey_1',\n",
       " 'animations/SitOnPod/Gestures/Hey_2',\n",
       " 'animations/SitOnPod/Gestures/Hey_3',\n",
       " 'animations/SitOnPod/Gestures/Hey_4',\n",
       " 'animations/SitOnPod/Gestures/Hey_6',\n",
       " 'animations/SitOnPod/Gestures/Hey_7',\n",
       " 'animations/SitOnPod/Gestures/Me_1',\n",
       " 'animations/SitOnPod/Gestures/Me_2',\n",
       " 'animations/SitOnPod/Gestures/Me_4',\n",
       " 'animations/SitOnPod/Gestures/Me_7',\n",
       " 'animations/SitOnPod/Gestures/Me_8',\n",
       " 'animations/SitOnPod/Gestures/No_1',\n",
       " 'animations/SitOnPod/Gestures/No_2',\n",
       " 'animations/SitOnPod/Gestures/No_3',\n",
       " 'animations/SitOnPod/Gestures/No_4',\n",
       " 'animations/SitOnPod/Gestures/No_5',\n",
       " 'animations/SitOnPod/Gestures/No_6',\n",
       " 'animations/SitOnPod/Gestures/No_7',\n",
       " 'animations/SitOnPod/Gestures/No_8',\n",
       " 'animations/SitOnPod/Gestures/No_9',\n",
       " 'animations/SitOnPod/Gestures/This_1',\n",
       " 'animations/SitOnPod/Gestures/This_10',\n",
       " 'animations/SitOnPod/Gestures/This_11',\n",
       " 'animations/SitOnPod/Gestures/This_12',\n",
       " 'animations/SitOnPod/Gestures/This_13',\n",
       " 'animations/SitOnPod/Gestures/This_14',\n",
       " 'animations/SitOnPod/Gestures/This_15',\n",
       " 'animations/SitOnPod/Gestures/This_2',\n",
       " 'animations/SitOnPod/Gestures/This_3',\n",
       " 'animations/SitOnPod/Gestures/This_4',\n",
       " 'animations/SitOnPod/Gestures/This_5',\n",
       " 'animations/SitOnPod/Gestures/This_6',\n",
       " 'animations/SitOnPod/Gestures/This_7',\n",
       " 'animations/SitOnPod/Gestures/This_8',\n",
       " 'animations/SitOnPod/Gestures/This_9',\n",
       " 'animations/SitOnPod/Gestures/WhatSThis_1',\n",
       " 'animations/SitOnPod/Gestures/WhatSThis_10',\n",
       " 'animations/SitOnPod/Gestures/WhatSThis_11',\n",
       " 'animations/SitOnPod/Gestures/WhatSThis_12',\n",
       " 'animations/SitOnPod/Gestures/WhatSThis_13',\n",
       " 'animations/SitOnPod/Gestures/WhatSThis_14',\n",
       " 'animations/SitOnPod/Gestures/WhatSThis_15',\n",
       " 'animations/SitOnPod/Gestures/WhatSThis_16',\n",
       " 'animations/SitOnPod/Gestures/WhatSThis_2',\n",
       " 'animations/SitOnPod/Gestures/WhatSThis_3',\n",
       " 'animations/SitOnPod/Gestures/WhatSThis_4',\n",
       " 'animations/SitOnPod/Gestures/WhatSThis_5',\n",
       " 'animations/SitOnPod/Gestures/WhatSThis_6',\n",
       " 'animations/SitOnPod/Gestures/WhatSThis_7',\n",
       " 'animations/SitOnPod/Gestures/WhatSThis_8',\n",
       " 'animations/SitOnPod/Gestures/WhatSThis_9',\n",
       " 'animations/SitOnPod/Gestures/Yes_1',\n",
       " 'animations/SitOnPod/Gestures/Yes_2',\n",
       " 'animations/SitOnPod/Gestures/Yes_3',\n",
       " 'animations/SitOnPod/Gestures/You_1',\n",
       " 'animations/SitOnPod/Gestures/You_2',\n",
       " 'animations/SitOnPod/Gestures/You_3',\n",
       " 'animations/SitOnPod/Gestures/You_4',\n",
       " 'animations/SitOnPod/Gestures/You_5',\n",
       " 'animations/Stand/BodyTalk/Listening/Listening_2',\n",
       " 'animations/Stand/BodyTalk/Listening/ListeningLeft_1',\n",
       " 'animations/Stand/BodyTalk/Listening/ListeningLeft_3',\n",
       " 'animations/Stand/BodyTalk/Listening/ListeningRight_1',\n",
       " 'animations/Stand/BodyTalk/Listening/ListeningRight_3',\n",
       " 'animations/Stand/BodyTalk/Speaking/BodyTalk_1',\n",
       " 'animations/Stand/BodyTalk/Speaking/BodyTalk_10',\n",
       " 'animations/Stand/BodyTalk/Speaking/BodyTalk_11',\n",
       " 'animations/Stand/BodyTalk/Speaking/BodyTalk_12',\n",
       " 'animations/Stand/BodyTalk/Speaking/BodyTalk_13',\n",
       " 'animations/Stand/BodyTalk/Speaking/BodyTalk_14',\n",
       " 'animations/Stand/BodyTalk/Speaking/BodyTalk_15',\n",
       " 'animations/Stand/BodyTalk/Speaking/BodyTalk_16',\n",
       " 'animations/Stand/BodyTalk/Speaking/BodyTalk_17',\n",
       " 'animations/Stand/BodyTalk/Speaking/BodyTalk_18',\n",
       " 'animations/Stand/BodyTalk/Speaking/BodyTalk_19',\n",
       " 'animations/Stand/BodyTalk/Speaking/BodyTalk_2',\n",
       " 'animations/Stand/BodyTalk/Speaking/BodyTalk_20',\n",
       " 'animations/Stand/BodyTalk/Speaking/BodyTalk_21',\n",
       " 'animations/Stand/BodyTalk/Speaking/BodyTalk_22',\n",
       " 'animations/Stand/BodyTalk/Speaking/BodyTalk_3',\n",
       " 'animations/Stand/BodyTalk/Speaking/BodyTalk_4',\n",
       " 'animations/Stand/BodyTalk/Speaking/BodyTalk_5',\n",
       " 'animations/Stand/BodyTalk/Speaking/BodyTalk_6',\n",
       " 'animations/Stand/BodyTalk/Speaking/BodyTalk_7',\n",
       " 'animations/Stand/BodyTalk/Speaking/BodyTalk_8',\n",
       " 'animations/Stand/BodyTalk/Speaking/BodyTalk_9',\n",
       " 'animations/Stand/BodyTalk/Thinking/Remember_1',\n",
       " 'animations/Stand/BodyTalk/Thinking/Remember_2',\n",
       " 'animations/Stand/BodyTalk/Thinking/Remember_3',\n",
       " 'animations/Stand/BodyTalk/Thinking/ThinkingLoop_1',\n",
       " 'animations/Stand/BodyTalk/Thinking/ThinkingLoop_2',\n",
       " 'animations/Stand/Emotions/Negative/Angry_1',\n",
       " 'animations/Stand/Emotions/Negative/Angry_2',\n",
       " 'animations/Stand/Emotions/Negative/Angry_3',\n",
       " 'animations/Stand/Emotions/Negative/Angry_4',\n",
       " 'animations/Stand/Emotions/Negative/Anxious_1',\n",
       " 'animations/Stand/Emotions/Negative/Bored_1',\n",
       " 'animations/Stand/Emotions/Negative/Bored_2',\n",
       " 'animations/Stand/Emotions/Negative/Disappointed_1',\n",
       " 'animations/Stand/Emotions/Negative/Exhausted_1',\n",
       " 'animations/Stand/Emotions/Negative/Exhausted_2',\n",
       " 'animations/Stand/Emotions/Negative/Fear_1',\n",
       " 'animations/Stand/Emotions/Negative/Fear_2',\n",
       " 'animations/Stand/Emotions/Negative/Fearful_1',\n",
       " 'animations/Stand/Emotions/Negative/Frustrated_1',\n",
       " 'animations/Stand/Emotions/Negative/Humiliated_1',\n",
       " 'animations/Stand/Emotions/Negative/Hurt_1',\n",
       " 'animations/Stand/Emotions/Negative/Hurt_2',\n",
       " 'animations/Stand/Emotions/Negative/Late_1',\n",
       " 'animations/Stand/Emotions/Negative/Sad_1',\n",
       " 'animations/Stand/Emotions/Negative/Sad_2',\n",
       " 'animations/Stand/Emotions/Negative/Shocked_1',\n",
       " 'animations/Stand/Emotions/Negative/Sorry_1',\n",
       " 'animations/Stand/Emotions/Negative/Surprise_1',\n",
       " 'animations/Stand/Emotions/Negative/Surprise_2',\n",
       " 'animations/Stand/Emotions/Negative/Surprise_3',\n",
       " 'animations/Stand/Emotions/Neutral/Alienated_1',\n",
       " 'animations/Stand/Emotions/Neutral/Annoyed_1',\n",
       " 'animations/Stand/Emotions/Neutral/AskForAttention_1',\n",
       " 'animations/Stand/Emotions/Neutral/AskForAttention_2',\n",
       " 'animations/Stand/Emotions/Neutral/AskForAttention_3',\n",
       " 'animations/Stand/Emotions/Neutral/Cautious_1',\n",
       " 'animations/Stand/Emotions/Neutral/Confused_1',\n",
       " 'animations/Stand/Emotions/Neutral/Determined_1',\n",
       " 'animations/Stand/Emotions/Neutral/Embarrassed_1',\n",
       " 'animations/Stand/Emotions/Neutral/Hello_1',\n",
       " 'animations/Stand/Emotions/Neutral/Hesitation_1',\n",
       " 'animations/Stand/Emotions/Neutral/Innocent_1',\n",
       " 'animations/Stand/Emotions/Neutral/Lonely_1',\n",
       " 'animations/Stand/Emotions/Neutral/Mischievous_1',\n",
       " 'animations/Stand/Emotions/Neutral/Puzzled_1',\n",
       " 'animations/Stand/Emotions/Neutral/Sneeze',\n",
       " 'animations/Stand/Emotions/Neutral/Stubborn_1',\n",
       " 'animations/Stand/Emotions/Neutral/Suspicious_1',\n",
       " 'animations/Stand/Emotions/Positive/Amused_1',\n",
       " 'animations/Stand/Emotions/Positive/Confident_1',\n",
       " 'animations/Stand/Emotions/Positive/Ecstatic_1',\n",
       " 'animations/Stand/Emotions/Positive/Enthusiastic_1',\n",
       " 'animations/Stand/Emotions/Positive/Excited_1',\n",
       " 'animations/Stand/Emotions/Positive/Excited_2',\n",
       " 'animations/Stand/Emotions/Positive/Excited_3',\n",
       " 'animations/Stand/Emotions/Positive/Happy_1',\n",
       " 'animations/Stand/Emotions/Positive/Happy_2',\n",
       " 'animations/Stand/Emotions/Positive/Happy_3',\n",
       " 'animations/Stand/Emotions/Positive/Happy_4',\n",
       " 'animations/Stand/Emotions/Positive/Hungry_1',\n",
       " 'animations/Stand/Emotions/Positive/Hysterical_1',\n",
       " 'animations/Stand/Emotions/Positive/Interested_1',\n",
       " 'animations/Stand/Emotions/Positive/Interested_2',\n",
       " 'animations/Stand/Emotions/Positive/Laugh_1',\n",
       " 'animations/Stand/Emotions/Positive/Laugh_2',\n",
       " 'animations/Stand/Emotions/Positive/Laugh_3',\n",
       " 'animations/Stand/Emotions/Positive/Mocker_1',\n",
       " 'animations/Stand/Emotions/Positive/Optimistic_1',\n",
       " 'animations/Stand/Emotions/Positive/Peaceful_1',\n",
       " 'animations/Stand/Emotions/Positive/Proud_1',\n",
       " 'animations/Stand/Emotions/Positive/Proud_2',\n",
       " 'animations/Stand/Emotions/Positive/Proud_3',\n",
       " 'animations/Stand/Emotions/Positive/Relieved_1',\n",
       " 'animations/Stand/Emotions/Positive/Shy_1',\n",
       " 'animations/Stand/Emotions/Positive/Shy_2',\n",
       " 'animations/Stand/Emotions/Positive/Sure_1',\n",
       " 'animations/Stand/Emotions/Positive/Winner_1',\n",
       " 'animations/Stand/Emotions/Positive/Winner_2',\n",
       " 'animations/Stand/Gestures/Angry_1',\n",
       " 'animations/Stand/Gestures/Angry_2',\n",
       " 'animations/Stand/Gestures/Angry_3',\n",
       " 'animations/Stand/Gestures/Applause_1',\n",
       " 'animations/Stand/Gestures/BowShort_1',\n",
       " 'animations/Stand/Gestures/But_1',\n",
       " 'animations/Stand/Gestures/CalmDown_1',\n",
       " 'animations/Stand/Gestures/CalmDown_2',\n",
       " 'animations/Stand/Gestures/CalmDown_3',\n",
       " 'animations/Stand/Gestures/CalmDown_4',\n",
       " 'animations/Stand/Gestures/CalmDown_5',\n",
       " 'animations/Stand/Gestures/CalmDown_6',\n",
       " 'animations/Stand/Gestures/Caress_1',\n",
       " 'animations/Stand/Gestures/Caress_2',\n",
       " 'animations/Stand/Gestures/CatchFly_1',\n",
       " 'animations/Stand/Gestures/CatchFly_2',\n",
       " 'animations/Stand/Gestures/Choice_1',\n",
       " 'animations/Stand/Gestures/Choice_2',\n",
       " 'animations/Stand/Gestures/Claw_1',\n",
       " 'animations/Stand/Gestures/Claw_2',\n",
       " 'animations/Stand/Gestures/Coaxing_1',\n",
       " 'animations/Stand/Gestures/Coaxing_2',\n",
       " 'animations/Stand/Gestures/ComeOn_1',\n",
       " 'animations/Stand/Gestures/Confused_1',\n",
       " 'animations/Stand/Gestures/Confused_2',\n",
       " 'animations/Stand/Gestures/CountFive_1',\n",
       " 'animations/Stand/Gestures/CountFive_2',\n",
       " 'animations/Stand/Gestures/CountFour_1',\n",
       " 'animations/Stand/Gestures/CountFour_2',\n",
       " 'animations/Stand/Gestures/CountMore_1',\n",
       " 'animations/Stand/Gestures/CountMore_2',\n",
       " 'animations/Stand/Gestures/CountOne_1',\n",
       " 'animations/Stand/Gestures/CountOne_2',\n",
       " 'animations/Stand/Gestures/CountThree_1',\n",
       " 'animations/Stand/Gestures/CountThree_2',\n",
       " 'animations/Stand/Gestures/CountTwo_1',\n",
       " 'animations/Stand/Gestures/CountTwo_2',\n",
       " 'animations/Stand/Gestures/Desperate_1',\n",
       " 'animations/Stand/Gestures/Desperate_2',\n",
       " 'animations/Stand/Gestures/Desperate_3',\n",
       " 'animations/Stand/Gestures/Desperate_4',\n",
       " 'animations/Stand/Gestures/Desperate_5',\n",
       " 'animations/Stand/Gestures/Enthusiastic_1',\n",
       " 'animations/Stand/Gestures/Enthusiastic_2',\n",
       " 'animations/Stand/Gestures/Enthusiastic_3',\n",
       " 'animations/Stand/Gestures/Enthusiastic_4',\n",
       " 'animations/Stand/Gestures/Enthusiastic_5',\n",
       " 'animations/Stand/Gestures/Everything_1',\n",
       " 'animations/Stand/Gestures/Everything_2',\n",
       " 'animations/Stand/Gestures/Everything_3',\n",
       " 'animations/Stand/Gestures/Everything_4',\n",
       " 'animations/Stand/Gestures/Everything_5',\n",
       " 'animations/Stand/Gestures/Everything_6',\n",
       " 'animations/Stand/Gestures/Excited_1',\n",
       " 'animations/Stand/Gestures/Explain_1',\n",
       " 'animations/Stand/Gestures/Explain_10',\n",
       " 'animations/Stand/Gestures/Explain_11',\n",
       " 'animations/Stand/Gestures/Explain_2',\n",
       " 'animations/Stand/Gestures/Explain_3',\n",
       " 'animations/Stand/Gestures/Explain_4',\n",
       " 'animations/Stand/Gestures/Explain_5',\n",
       " 'animations/Stand/Gestures/Explain_6',\n",
       " 'animations/Stand/Gestures/Explain_7',\n",
       " 'animations/Stand/Gestures/Explain_8',\n",
       " 'animations/Stand/Gestures/Explain_9',\n",
       " 'animations/Stand/Gestures/Far_1',\n",
       " 'animations/Stand/Gestures/Far_2',\n",
       " 'animations/Stand/Gestures/Far_3',\n",
       " 'animations/Stand/Gestures/Follow_1',\n",
       " 'animations/Stand/Gestures/Freeze_1',\n",
       " 'animations/Stand/Gestures/Give_1',\n",
       " 'animations/Stand/Gestures/Give_2',\n",
       " 'animations/Stand/Gestures/Give_3',\n",
       " 'animations/Stand/Gestures/Give_4',\n",
       " 'animations/Stand/Gestures/Give_5',\n",
       " 'animations/Stand/Gestures/Give_6',\n",
       " 'animations/Stand/Gestures/Great_1',\n",
       " 'animations/Stand/Gestures/HeSays_1',\n",
       " 'animations/Stand/Gestures/HeSays_2',\n",
       " 'animations/Stand/Gestures/HeSays_3',\n",
       " 'animations/Stand/Gestures/Hey_1',\n",
       " 'animations/Stand/Gestures/Hey_2',\n",
       " 'animations/Stand/Gestures/Hey_3',\n",
       " 'animations/Stand/Gestures/Hey_4',\n",
       " 'animations/Stand/Gestures/Hey_5',\n",
       " 'animations/Stand/Gestures/Hey_6',\n",
       " 'animations/Stand/Gestures/Hey_7',\n",
       " 'animations/Stand/Gestures/Hide_1',\n",
       " 'animations/Stand/Gestures/Hungry_1',\n",
       " 'animations/Stand/Gestures/IDontKnow_1',\n",
       " 'animations/Stand/Gestures/IDontKnow_2',\n",
       " 'animations/Stand/Gestures/IDontKnow_3',\n",
       " 'animations/Stand/Gestures/IDontKnow_4',\n",
       " 'animations/Stand/Gestures/IDontKnow_5',\n",
       " 'animations/Stand/Gestures/IDontKnow_6',\n",
       " 'animations/Stand/Gestures/JointHands_1',\n",
       " 'animations/Stand/Gestures/JointHands_2',\n",
       " 'animations/Stand/Gestures/JointHands_3',\n",
       " 'animations/Stand/Gestures/Joy_1',\n",
       " 'animations/Stand/Gestures/Kisses_1',\n",
       " 'animations/Stand/Gestures/Look_1',\n",
       " 'animations/Stand/Gestures/Look_2',\n",
       " 'animations/Stand/Gestures/Maybe_1',\n",
       " 'animations/Stand/Gestures/Me_1',\n",
       " 'animations/Stand/Gestures/Me_2',\n",
       " 'animations/Stand/Gestures/Me_3',\n",
       " 'animations/Stand/Gestures/Me_4',\n",
       " 'animations/Stand/Gestures/Me_5',\n",
       " 'animations/Stand/Gestures/Me_6',\n",
       " 'animations/Stand/Gestures/Me_7',\n",
       " 'animations/Stand/Gestures/Me_8',\n",
       " 'animations/Stand/Gestures/Mime_1',\n",
       " 'animations/Stand/Gestures/Mime_2',\n",
       " 'animations/Stand/Gestures/Next_1',\n",
       " 'animations/Stand/Gestures/No_1',\n",
       " 'animations/Stand/Gestures/No_2',\n",
       " 'animations/Stand/Gestures/No_3',\n",
       " 'animations/Stand/Gestures/No_4',\n",
       " 'animations/Stand/Gestures/No_5',\n",
       " 'animations/Stand/Gestures/No_6',\n",
       " 'animations/Stand/Gestures/No_7',\n",
       " 'animations/Stand/Gestures/No_8',\n",
       " 'animations/Stand/Gestures/No_9',\n",
       " 'animations/Stand/Gestures/Nothing_1',\n",
       " 'animations/Stand/Gestures/Nothing_2',\n",
       " 'animations/Stand/Gestures/OnTheEvening_1',\n",
       " 'animations/Stand/Gestures/OnTheEvening_2',\n",
       " 'animations/Stand/Gestures/OnTheEvening_3',\n",
       " 'animations/Stand/Gestures/OnTheEvening_4',\n",
       " 'animations/Stand/Gestures/OnTheEvening_5',\n",
       " 'animations/Stand/Gestures/Please_1',\n",
       " 'animations/Stand/Gestures/Please_2',\n",
       " 'animations/Stand/Gestures/Please_3',\n",
       " 'animations/Stand/Gestures/Reject_1',\n",
       " 'animations/Stand/Gestures/Reject_2',\n",
       " 'animations/Stand/Gestures/Reject_3',\n",
       " 'animations/Stand/Gestures/Reject_4',\n",
       " 'animations/Stand/Gestures/Reject_5',\n",
       " 'animations/Stand/Gestures/Reject_6',\n",
       " 'animations/Stand/Gestures/Salute_1',\n",
       " 'animations/Stand/Gestures/Salute_2',\n",
       " 'animations/Stand/Gestures/Salute_3',\n",
       " 'animations/Stand/Gestures/Shoot_1',\n",
       " 'animations/Stand/Gestures/ShowFloor_1',\n",
       " 'animations/Stand/Gestures/ShowFloor_2',\n",
       " 'animations/Stand/Gestures/ShowFloor_3',\n",
       " 'animations/Stand/Gestures/ShowFloor_4',\n",
       " 'animations/Stand/Gestures/ShowFloor_5',\n",
       " 'animations/Stand/Gestures/ShowSky_1',\n",
       " 'animations/Stand/Gestures/ShowSky_10',\n",
       " 'animations/Stand/Gestures/ShowSky_11',\n",
       " 'animations/Stand/Gestures/ShowSky_12',\n",
       " 'animations/Stand/Gestures/ShowSky_2',\n",
       " 'animations/Stand/Gestures/ShowSky_3',\n",
       " 'animations/Stand/Gestures/ShowSky_4',\n",
       " 'animations/Stand/Gestures/ShowSky_5',\n",
       " 'animations/Stand/Gestures/ShowSky_6',\n",
       " 'animations/Stand/Gestures/ShowSky_7',\n",
       " 'animations/Stand/Gestures/ShowSky_8',\n",
       " 'animations/Stand/Gestures/ShowSky_9',\n",
       " 'animations/Stand/Gestures/Shy_1',\n",
       " 'animations/Stand/Gestures/Stretch_1',\n",
       " 'animations/Stand/Gestures/Stretch_2',\n",
       " 'animations/Stand/Gestures/Surprised_1',\n",
       " 'animations/Stand/Gestures/Take_1',\n",
       " 'animations/Stand/Gestures/Thinking_1',\n",
       " 'animations/Stand/Gestures/Thinking_2',\n",
       " 'animations/Stand/Gestures/Thinking_3',\n",
       " 'animations/Stand/Gestures/Thinking_4',\n",
       " 'animations/Stand/Gestures/Thinking_5',\n",
       " 'animations/Stand/Gestures/Thinking_6',\n",
       " 'animations/Stand/Gestures/Thinking_7',\n",
       " 'animations/Stand/Gestures/Thinking_8',\n",
       " 'animations/Stand/Gestures/This_1',\n",
       " 'animations/Stand/Gestures/This_10',\n",
       " 'animations/Stand/Gestures/This_11',\n",
       " 'animations/Stand/Gestures/This_12',\n",
       " 'animations/Stand/Gestures/This_13',\n",
       " 'animations/Stand/Gestures/This_14',\n",
       " 'animations/Stand/Gestures/This_15',\n",
       " 'animations/Stand/Gestures/This_2',\n",
       " 'animations/Stand/Gestures/This_3',\n",
       " 'animations/Stand/Gestures/This_4',\n",
       " 'animations/Stand/Gestures/This_5',\n",
       " 'animations/Stand/Gestures/This_6',\n",
       " 'animations/Stand/Gestures/This_7',\n",
       " 'animations/Stand/Gestures/This_8',\n",
       " 'animations/Stand/Gestures/This_9',\n",
       " 'animations/Stand/Gestures/WhatSThis_1',\n",
       " 'animations/Stand/Gestures/WhatSThis_10',\n",
       " 'animations/Stand/Gestures/WhatSThis_11',\n",
       " 'animations/Stand/Gestures/WhatSThis_12',\n",
       " 'animations/Stand/Gestures/WhatSThis_13',\n",
       " 'animations/Stand/Gestures/WhatSThis_14',\n",
       " 'animations/Stand/Gestures/WhatSThis_15',\n",
       " 'animations/Stand/Gestures/WhatSThis_16',\n",
       " 'animations/Stand/Gestures/WhatSThis_2',\n",
       " 'animations/Stand/Gestures/WhatSThis_3',\n",
       " 'animations/Stand/Gestures/WhatSThis_4',\n",
       " 'animations/Stand/Gestures/WhatSThis_5',\n",
       " 'animations/Stand/Gestures/WhatSThis_6',\n",
       " 'animations/Stand/Gestures/WhatSThis_7',\n",
       " 'animations/Stand/Gestures/WhatSThis_8',\n",
       " 'animations/Stand/Gestures/WhatSThis_9',\n",
       " 'animations/Stand/Gestures/Wings_1',\n",
       " 'animations/Stand/Gestures/Wings_2',\n",
       " 'animations/Stand/Gestures/Wings_3',\n",
       " 'animations/Stand/Gestures/Wings_4',\n",
       " 'animations/Stand/Gestures/Wings_5',\n",
       " 'animations/Stand/Gestures/Yes_1',\n",
       " 'animations/Stand/Gestures/Yes_2',\n",
       " 'animations/Stand/Gestures/Yes_3',\n",
       " 'animations/Stand/Gestures/You_1',\n",
       " 'animations/Stand/Gestures/You_2',\n",
       " 'animations/Stand/Gestures/You_3',\n",
       " 'animations/Stand/Gestures/You_4',\n",
       " 'animations/Stand/Gestures/You_5',\n",
       " 'animations/Stand/Gestures/YouKnowWhat_1',\n",
       " 'animations/Stand/Gestures/YouKnowWhat_2',\n",
       " 'animations/Stand/Gestures/YouKnowWhat_3',\n",
       " 'animations/Stand/Gestures/YouKnowWhat_4',\n",
       " 'animations/Stand/Gestures/YouKnowWhat_5',\n",
       " 'animations/Stand/Gestures/YouKnowWhat_6',\n",
       " 'animations/Stand/Gestures/Yum_1',\n",
       " 'animations/Stand/Reactions/BumperLeft_1',\n",
       " 'animations/Stand/Reactions/BumperRight_1',\n",
       " 'animations/Stand/Reactions/Bumpers_1',\n",
       " 'animations/Stand/Reactions/Bumpers_2',\n",
       " 'animations/Stand/Reactions/Bumpers_3',\n",
       " 'animations/Stand/Reactions/EthernetOff_1',\n",
       " 'animations/Stand/Reactions/EthernetOn_1',\n",
       " 'animations/Stand/Reactions/Heat_1',\n",
       " 'animations/Stand/Reactions/Heat_2',\n",
       " 'animations/Stand/Reactions/LightShine_1',\n",
       " 'animations/Stand/Reactions/LightShine_2',\n",
       " 'animations/Stand/Reactions/LightShine_3',\n",
       " 'animations/Stand/Reactions/LightShine_4',\n",
       " 'animations/Stand/Reactions/SeeColor_1',\n",
       " 'animations/Stand/Reactions/SeeColor_2',\n",
       " 'animations/Stand/Reactions/SeeColor_3',\n",
       " 'animations/Stand/Reactions/SeeSomething_1',\n",
       " 'animations/Stand/Reactions/SeeSomething_3',\n",
       " 'animations/Stand/Reactions/SeeSomething_4',\n",
       " 'animations/Stand/Reactions/SeeSomething_5',\n",
       " 'animations/Stand/Reactions/SeeSomething_6',\n",
       " 'animations/Stand/Reactions/SeeSomething_7',\n",
       " 'animations/Stand/Reactions/SeeSomething_8',\n",
       " 'animations/Stand/Reactions/ShakeBody_1',\n",
       " 'animations/Stand/Reactions/ShakeBody_2',\n",
       " 'animations/Stand/Reactions/ShakeBody_3',\n",
       " 'animations/Stand/Reactions/TouchHead_1',\n",
       " 'animations/Stand/Reactions/TouchHead_2',\n",
       " 'animations/Stand/Reactions/TouchHead_3',\n",
       " 'animations/Stand/Reactions/TouchHead_4',\n",
       " 'animations/Stand/Waiting/AirGuitar_1',\n",
       " 'animations/Stand/Waiting/AirJuggle_1',\n",
       " 'animations/Stand/Waiting/BackRubs_1',\n",
       " 'animations/Stand/Waiting/Bandmaster_1',\n",
       " 'animations/Stand/Waiting/Binoculars_1',\n",
       " 'animations/Stand/Waiting/CallSomeone_1',\n",
       " 'animations/Stand/Waiting/Drink_1',\n",
       " 'animations/Stand/Waiting/DriveCar_1',\n",
       " 'animations/Stand/Waiting/Fitness_1',\n",
       " 'animations/Stand/Waiting/Fitness_2',\n",
       " 'animations/Stand/Waiting/Fitness_3',\n",
       " 'animations/Stand/Waiting/FunnyDancer_1',\n",
       " 'animations/Stand/Waiting/FunnySlide_1',\n",
       " 'animations/Stand/Waiting/HappyBirthday_1',\n",
       " 'animations/Stand/Waiting/Headbang_1',\n",
       " 'animations/Stand/Waiting/Helicopter_1',\n",
       " 'animations/Stand/Waiting/HideEyes_1',\n",
       " 'animations/Stand/Waiting/HideHands_1',\n",
       " 'animations/Stand/Waiting/Innocent_1',\n",
       " 'animations/Stand/Waiting/Knight_1',\n",
       " 'animations/Stand/Waiting/KnockEye_1',\n",
       " 'animations/Stand/Waiting/KungFu_1',\n",
       " 'animations/Stand/Waiting/LookHand_1',\n",
       " 'animations/Stand/Waiting/LookHand_2',\n",
       " 'animations/Stand/Waiting/LoveYou_1',\n",
       " 'animations/Stand/Waiting/Monster_1',\n",
       " 'animations/Stand/Waiting/MysticalPower_1',\n",
       " 'animations/Stand/Waiting/PlayHands_1',\n",
       " 'animations/Stand/Waiting/PlayHands_2',\n",
       " 'animations/Stand/Waiting/PlayHands_3',\n",
       " 'animations/Stand/Waiting/Relaxation_1',\n",
       " 'animations/Stand/Waiting/Relaxation_2',\n",
       " 'animations/Stand/Waiting/Relaxation_3',\n",
       " 'animations/Stand/Waiting/Relaxation_4',\n",
       " 'animations/Stand/Waiting/Rest_1',\n",
       " 'animations/Stand/Waiting/Robot_1',\n",
       " 'animations/Stand/Waiting/ScratchBack_1',\n",
       " 'animations/Stand/Waiting/ScratchBottom_1',\n",
       " 'animations/Stand/Waiting/ScratchEye_1',\n",
       " 'animations/Stand/Waiting/ScratchHand_1',\n",
       " 'animations/Stand/Waiting/ScratchHead_1',\n",
       " 'animations/Stand/Waiting/ScratchLeg_1',\n",
       " 'animations/Stand/Waiting/ScratchTorso_1',\n",
       " 'animations/Stand/Waiting/ShowMuscles_1',\n",
       " 'animations/Stand/Waiting/ShowMuscles_2',\n",
       " 'animations/Stand/Waiting/ShowMuscles_3',\n",
       " 'animations/Stand/Waiting/ShowMuscles_4',\n",
       " 'animations/Stand/Waiting/ShowMuscles_5',\n",
       " 'animations/Stand/Waiting/ShowSky_1',\n",
       " 'animations/Stand/Waiting/ShowSky_2',\n",
       " 'animations/Stand/Waiting/SpaceShuttle_1',\n",
       " 'animations/Stand/Waiting/Stretch_1',\n",
       " 'animations/Stand/Waiting/Stretch_2',\n",
       " 'animations/Stand/Waiting/Stretch_3',\n",
       " 'animations/Stand/Waiting/TakePicture_1',\n",
       " 'animations/Stand/Waiting/Taxi_1',\n",
       " 'animations/Stand/Waiting/Think_1',\n",
       " 'animations/Stand/Waiting/Think_2',\n",
       " 'animations/Stand/Waiting/Think_3',\n",
       " 'animations/Stand/Waiting/Think_4',\n",
       " 'animations/Stand/Waiting/Vacuum_1',\n",
       " 'animations/Stand/Waiting/Waddle_1',\n",
       " 'animations/Stand/Waiting/Waddle_2',\n",
       " 'animations/Stand/Waiting/WakeUp_1',\n",
       " 'animations/Stand/Waiting/WalkInTheShit_1',\n",
       " 'animations/Stand/Waiting/Zombie_1',\n",
       " 'animations/Stand/Enumeration/NAO/Center_Neutral_ENU_06',\n",
       " 'animations/Stand/Enumeration/NAO/Left_Neutral_ENU_05',\n",
       " 'animations/Stand/Enumeration/NAO/Left_Neutral_ENU_02',\n",
       " 'animations/Stand/Enumeration/NAO/Center_Slow_ENU_02',\n",
       " 'animations/Stand/Enumeration/NAO/Center_Slow_ENU_04',\n",
       " 'animations/Stand/Enumeration/NAO/Right_Neutral_ENU_03',\n",
       " 'animations/Stand/Enumeration/NAO/Left_Neutral_ENU_03',\n",
       " 'animations/Stand/Enumeration/NAO/Right_Strong_ENU_04',\n",
       " 'animations/Stand/Enumeration/NAO/Center_Neutral_ENU_02',\n",
       " 'animations/Stand/Enumeration/NAO/Right_Neutral_ENU_02',\n",
       " 'animations/Stand/Enumeration/NAO/Right_Neutral_ENU_01',\n",
       " 'animations/Stand/Enumeration/NAO/Right_Neutral_ENU_04',\n",
       " 'animations/Stand/Enumeration/NAO/Left_Neutral_ENU_04',\n",
       " 'animations/Stand/Enumeration/NAO/Center_Strong_ENU_02',\n",
       " 'animations/Stand/Enumeration/NAO/Right_Strong_ENU_02',\n",
       " 'animations/Stand/Enumeration/NAO/Left_Neutral_ENU_01',\n",
       " 'animations/Stand/Enumeration/NAO/Center_Strong_ENU_01',\n",
       " 'animations/Stand/Enumeration/NAO/Center_Neutral_ENU_01',\n",
       " 'animations/Stand/Enumeration/NAO/Center_Neutral_ENU_04',\n",
       " 'animations/Stand/Enumeration/NAO/Center_Strong_ENU_03',\n",
       " 'animations/Stand/Enumeration/NAO/Center_Slow_ENU_01',\n",
       " 'animations/Stand/Enumeration/NAO/Center_Slow_ENU_03',\n",
       " 'animations/Stand/Enumeration/NAO/Center_Neutral_ENU_07',\n",
       " 'animations/Stand/Enumeration/NAO/Left_Strong_ENU_03',\n",
       " 'animations/Stand/Enumeration/NAO/Right_Strong_ENU_03',\n",
       " 'animations/Stand/Enumeration/NAO/Center_Neutral_ENU_03',\n",
       " 'animations/Stand/Enumeration/NAO/Left_Strong_ENU_02',\n",
       " 'animations/Stand/Enumeration/NAO/Right_Neutral_ENU_05',\n",
       " 'animations/Stand/Enumeration/NAO/Left_Strong_ENU_04',\n",
       " 'animations/Stand/Self & others/NAO/Right_Strong_SAO_05',\n",
       " 'animations/Stand/Self & others/NAO/Left_Neutral_SAO_03',\n",
       " 'animations/Stand/Self & others/NAO/Left_Neutral_SAO_01',\n",
       " 'animations/Stand/Self & others/NAO/Left_Slow_SAO_02',\n",
       " 'animations/Stand/Self & others/NAO/Right_Slow_SAO_02',\n",
       " 'animations/Stand/Self & others/NAO/Left_Neutral_SAO_06',\n",
       " 'animations/Stand/Self & others/NAO/Right_Neutral_SAO_04',\n",
       " 'animations/Stand/Self & others/NAO/Right_Strong_SAO_02',\n",
       " 'animations/Stand/Self & others/NAO/Left_Slow_SAO_01',\n",
       " 'animations/Stand/Self & others/NAO/Center_Strong_SAO_02',\n",
       " 'animations/Stand/Self & others/NAO/Right_Neutral_SAO_03',\n",
       " 'animations/Stand/Self & others/NAO/Right_Strong_SAO_04',\n",
       " 'animations/Stand/Self & others/NAO/Right_Strong_SAO_03',\n",
       " 'animations/Stand/Self & others/NAO/Left_Neutral_SAO_05',\n",
       " 'animations/Stand/Self & others/NAO/Right_Neutral_SAO_02',\n",
       " 'animations/Stand/Self & others/NAO/Left_Neutral_SAO_02',\n",
       " 'animations/Stand/Self & others/NAO/Center_Neutral_SAO_05',\n",
       " 'animations/Stand/Self & others/NAO/Center_Strong_SAO_01',\n",
       " 'animations/Stand/Self & others/NAO/Right_Slow_SAO_01',\n",
       " 'animations/Stand/Self & others/NAO/Left_Neutral_SAO_04',\n",
       " 'animations/Stand/Self & others/NAO/Left_Strong_SAO_05',\n",
       " 'animations/Stand/Self & others/NAO/Left_Strong_SAO_04',\n",
       " 'animations/Stand/Self & others/NAO/Left_Strong_SAO_03',\n",
       " 'animations/Stand/Self & others/NAO/Center_Neutral_SAO_01',\n",
       " 'animations/Stand/Self & others/NAO/Left_Strong_SAO_02',\n",
       " 'animations/Stand/Self & others/NAO/Right_Neutral_SAO_06',\n",
       " 'animations/Stand/Self & others/NAO/Center_Neutral_SAO_02',\n",
       " 'animations/Stand/Self & others/NAO/Left_Strong_SAO_01',\n",
       " 'animations/Stand/Self & others/NAO/Center_Neutral_SAO_04',\n",
       " 'animations/Stand/Self & others/NAO/Center_Neutral_SAO_03',\n",
       " 'animations/Stand/Self & others/NAO/Right_Strong_SAO_01',\n",
       " 'animations/Stand/Self & others/NAO/Right_Neutral_SAO_01',\n",
       " 'animations/Stand/Self & others/NAO/Right_Neutral_SAO_05',\n",
       " 'animations/Stand/Negation/NAO/Center_Neutral_NEG_01',\n",
       " 'animations/Stand/Negation/NAO/Left_Strong_NEG_01',\n",
       " 'animations/Stand/Negation/NAO/Left_Strong_NEG_03',\n",
       " 'animations/Stand/Negation/NAO/Center_Slow_NEG_01',\n",
       " 'animations/Stand/Negation/NAO/Right_Neutral_NEG_01',\n",
       " 'animations/Stand/Negation/NAO/Right_Strong_NEG_04',\n",
       " 'animations/Stand/Negation/NAO/Center_Strong_NEG_03',\n",
       " 'animations/Stand/Negation/NAO/Right_Strong_NEG_02',\n",
       " 'animations/Stand/Negation/NAO/Center_Neutral_NEG_02',\n",
       " 'animations/Stand/Negation/NAO/Left_Strong_NEG_04',\n",
       " 'animations/Stand/Negation/NAO/Left_Strong_NEG_02',\n",
       " 'animations/Stand/Negation/NAO/Center_Strong_NEG_01',\n",
       " 'animations/Stand/Negation/NAO/Right_Strong_NEG_03',\n",
       " 'animations/Stand/Negation/NAO/Center_Neutral_NEG_04',\n",
       " 'animations/Stand/Negation/NAO/Center_Strong_NEG_04',\n",
       " 'animations/Stand/Negation/NAO/Center_Neutral_NEG_03',\n",
       " 'animations/Stand/Negation/NAO/Center_Strong_NEG_05',\n",
       " 'animations/Stand/Negation/NAO/Right_Strong_NEG_01',\n",
       " 'animations/Stand/Negation/NAO/Center_Slow_NEG_02',\n",
       " 'animations/Stand/Negation/NAO/Left_Neutral_NEG_01',\n",
       " 'animations/Stand/Exclamation/NAO/Left_Neutral_EXC_02',\n",
       " 'animations/Stand/Exclamation/NAO/Right_Strong_EXC_01',\n",
       " 'animations/Stand/Exclamation/NAO/Center_Strong_EXC_05',\n",
       " 'animations/Stand/Exclamation/NAO/Center_Strong_EXC_09',\n",
       " 'animations/Stand/Exclamation/NAO/Center_Neutral_EXC_04',\n",
       " 'animations/Stand/Exclamation/NAO/Center_Strong_EXC_08',\n",
       " 'animations/Stand/Exclamation/NAO/Right_Neutral_EXC_02',\n",
       " 'animations/Stand/Exclamation/NAO/Left_Strong_EXC_04',\n",
       " 'animations/Stand/Exclamation/NAO/Right_Neutral_EXC_05',\n",
       " 'animations/Stand/Exclamation/NAO/Left_Strong_EXC_03',\n",
       " 'animations/Stand/Exclamation/NAO/Left_Strong_EXC_01',\n",
       " 'animations/Stand/Exclamation/NAO/Left_Neutral_EXC_05',\n",
       " 'animations/Stand/Exclamation/NAO/Center_Strong_EXC_06',\n",
       " 'animations/Stand/Exclamation/NAO/Center_Slow_EXC_01',\n",
       " 'animations/Stand/Exclamation/NAO/Center_Strong_EXC_03',\n",
       " 'animations/Stand/Exclamation/NAO/Right_Strong_EXC_03',\n",
       " 'animations/Stand/Exclamation/NAO/Center_Neutral_EXC_03',\n",
       " 'animations/Stand/Exclamation/NAO/Center_Neutral_EXC_05',\n",
       " 'animations/Stand/Exclamation/NAO/Center_Strong_EXC_10',\n",
       " 'animations/Stand/Exclamation/NAO/Center_Neutral_EXC_08',\n",
       " 'animations/Stand/Exclamation/NAO/Center_Neutral_EXC_07',\n",
       " 'animations/Stand/Exclamation/NAO/Right_Strong_EXC_02',\n",
       " 'animations/Stand/Exclamation/NAO/Left_Strong_EXC_02',\n",
       " 'animations/Stand/Exclamation/NAO/Center_Slow_EXC_02',\n",
       " 'animations/Stand/Exclamation/NAO/Center_Neutral_EXC_02',\n",
       " 'animations/Stand/Exclamation/NAO/Center_Neutral_EXC_06',\n",
       " 'animations/Stand/Exclamation/NAO/Center_Slow_EXC_03',\n",
       " 'animations/Stand/Exclamation/NAO/Center_Strong_EXC_04',\n",
       " 'animations/Stand/Exclamation/NAO/Center_Neutral_EXC_01',\n",
       " 'animations/Stand/Exclamation/NAO/Right_Strong_EXC_04',\n",
       " 'animations/Stand/BodyTalk/BodyLanguage/NAO/Center_Neutral_AFF_08',\n",
       " 'animations/Stand/BodyTalk/BodyLanguage/NAO/Center_Neutral_AFF_09',\n",
       " 'animations/Stand/BodyTalk/BodyLanguage/NAO/Center_Neutral_AFF_07',\n",
       " 'animations/Stand/BodyTalk/BodyLanguage/NAO/Center_Strong_AFF_06',\n",
       " 'animations/Stand/BodyTalk/BodyLanguage/NAO/Right_Neutral_AFF_02',\n",
       " 'animations/Stand/BodyTalk/BodyLanguage/NAO/Center_Strong_AFF_04',\n",
       " 'animations/Stand/BodyTalk/BodyLanguage/NAO/Left_Neutral_AFF_06',\n",
       " 'animations/Stand/BodyTalk/BodyLanguage/NAO/Center_Neutral_AFF_06',\n",
       " 'animations/Stand/BodyTalk/BodyLanguage/NAO/Center_Strong_AFF_08',\n",
       " 'animations/Stand/BodyTalk/BodyLanguage/NAO/Left_Neutral_AFF_05',\n",
       " 'animations/Stand/BodyTalk/BodyLanguage/NAO/Center_Slow_AFF_01',\n",
       " 'animations/Stand/BodyTalk/BodyLanguage/NAO/Center_Slow_AFF_05',\n",
       " 'animations/Stand/BodyTalk/BodyLanguage/NAO/Center_Strong_AFF_07',\n",
       " 'animations/Stand/BodyTalk/BodyLanguage/NAO/Left_Neutral_AFF_02',\n",
       " 'animations/Stand/BodyTalk/BodyLanguage/NAO/Right_Neutral_AFF_06',\n",
       " 'animations/Stand/BodyTalk/BodyLanguage/NAO/Center_Neutral_AFF_11',\n",
       " 'animations/Stand/BodyTalk/BodyLanguage/NAO/Right_Slow_AFF_02',\n",
       " 'animations/Stand/BodyTalk/BodyLanguage/NAO/Center_Neutral_AFF_13',\n",
       " 'animations/Stand/BodyTalk/BodyLanguage/NAO/Left_Strong_AFF_02',\n",
       " 'animations/Stand/BodyTalk/BodyLanguage/NAO/Right_Strong_AFF_02',\n",
       " 'animations/Stand/BodyTalk/BodyLanguage/NAO/Left_Slow_AFF_03',\n",
       " 'animations/Stand/BodyTalk/BodyLanguage/NAO/Center_Strong_AFF_05',\n",
       " 'animations/Stand/BodyTalk/BodyLanguage/NAO/Right_Neutral_AFF_05',\n",
       " 'animations/Stand/BodyTalk/BodyLanguage/NAO/Center_Neutral_AFF_02',\n",
       " 'animations/Stand/BodyTalk/BodyLanguage/NAO/Center_Slow_AFF_02',\n",
       " 'animations/Stand/BodyTalk/BodyLanguage/NAO/Center_Neutral_AFF_10',\n",
       " 'animations/Stand/BodyTalk/BodyLanguage/NAO/Center_Strong_AFF_02',\n",
       " 'animations/Stand/BodyTalk/BodyLanguage/NAO/Left_Slow_AFF_02',\n",
       " 'animations/Stand/BodyTalk/BodyLanguage/NAO/Center_Neutral_AFF_01',\n",
       " 'animations/Stand/BodyTalk/BodyLanguage/NAO/Right_Slow_AFF_01',\n",
       " 'animations/Stand/BodyTalk/BodyLanguage/NAO/Right_Neutral_AFF_04',\n",
       " 'animations/Stand/BodyTalk/BodyLanguage/NAO/Center_Neutral_AFF_04',\n",
       " 'animations/Stand/BodyTalk/BodyLanguage/NAO/Left_Slow_AFF_01',\n",
       " 'animations/Stand/BodyTalk/BodyLanguage/NAO/Center_Slow_AFF_06',\n",
       " 'animations/Stand/BodyTalk/BodyLanguage/NAO/Center_Neutral_AFF_05',\n",
       " 'animations/Stand/BodyTalk/BodyLanguage/NAO/Left_Neutral_AFF_04',\n",
       " 'animations/Stand/BodyTalk/BodyLanguage/NAO/Center_Strong_AFF_01',\n",
       " 'animations/Stand/BodyTalk/BodyLanguage/NAO/Right_Slow_AFF_03',\n",
       " 'animations/Stand/BodyTalk/BodyLanguage/NAO/Center_Neutral_AFF_12',\n",
       " 'animations/Stand/BodyTalk/BodyLanguage/NAO/Center_Slow_AFF_03',\n",
       " 'animations/Stand/Question/NAO/Center_Neutral_QUE_09',\n",
       " 'animations/Stand/Question/NAO/Right_Neutral_QUE_02',\n",
       " 'animations/Stand/Question/NAO/Center_Strong_QUE_03',\n",
       " 'animations/Stand/Question/NAO/Left_Neutral_QUE_01',\n",
       " 'animations/Stand/Question/NAO/Right_Neutral_QUE_03',\n",
       " 'animations/Stand/Question/NAO/Right_Neutral_QUE_01',\n",
       " 'animations/Stand/Question/NAO/Center_Neutral_QUE_06',\n",
       " 'animations/Stand/Question/NAO/Center_Neutral_QUE_04',\n",
       " 'animations/Stand/Question/NAO/Center_Slow_QUE_01',\n",
       " 'animations/Stand/Question/NAO/Center_Slow_QUE_02',\n",
       " 'animations/Stand/Question/NAO/Center_Strong_QUE_01',\n",
       " 'animations/Stand/Question/NAO/Center_Neutral_QUE_10',\n",
       " 'animations/Stand/Question/NAO/Center_Neutral_QUE_03',\n",
       " 'animations/Stand/Question/NAO/Left_Neutral_QUE_02',\n",
       " 'animations/Stand/Question/NAO/Center_Neutral_QUE_02',\n",
       " 'animations/Stand/Question/NAO/Center_Neutral_QUE_08',\n",
       " 'animations/Stand/Question/NAO/Center_Neutral_QUE_05',\n",
       " 'animations/Stand/Question/NAO/Left_Neutral_QUE_03',\n",
       " 'animations/Stand/Question/NAO/Center_Strong_QUE_02',\n",
       " 'animations/Stand/Question/NAO/Center_Neutral_QUE_01',\n",
       " 'animations/Stand/Question/NAO/Center_Slow_QUE_03',\n",
       " 'animations/Stand/Space & time/NAO/Left_Neutral_SAT_06',\n",
       " 'animations/Stand/Space & time/NAO/Left_Strong_SAT_02',\n",
       " 'animations/Stand/Space & time/NAO/Left_Neutral_SAT_03',\n",
       " 'animations/Stand/Space & time/NAO/Left_Slow_SAT_01',\n",
       " 'animations/Stand/Space & time/NAO/Center_Slow_SAT_02',\n",
       " 'animations/Stand/Space & time/NAO/Left_Neutral_SAT_08',\n",
       " 'animations/Stand/Space & time/NAO/Right_Neutral_SAT_05',\n",
       " 'animations/Stand/Space & time/NAO/Left_Strong_SAT_03',\n",
       " 'animations/Stand/Space & time/NAO/Center_Neutral_SAT_01',\n",
       " 'animations/Stand/Space & time/NAO/Right_Strong_SAT_02',\n",
       " 'animations/Stand/Space & time/NAO/Right_Strong_SAT_06',\n",
       " 'animations/Stand/Space & time/NAO/Center_Neutral_SAT_04',\n",
       " 'animations/Stand/Space & time/NAO/Left_Strong_SAT_05',\n",
       " 'animations/Stand/Space & time/NAO/Center_Slow_SAT_03',\n",
       " 'animations/Stand/Space & time/NAO/Center_Strong_SAT_02',\n",
       " 'animations/Stand/Space & time/NAO/Right_Strong_SAT_04',\n",
       " 'animations/Stand/Space & time/NAO/Right_Neutral_SAT_08',\n",
       " 'animations/Stand/Space & time/NAO/Left_Strong_SAT_06',\n",
       " 'animations/Stand/Space & time/NAO/Right_Neutral_SAT_04',\n",
       " 'animations/Stand/Space & time/NAO/Left_Neutral_SAT_01',\n",
       " 'animations/Stand/Space & time/NAO/Left_Neutral_SAT_10',\n",
       " 'animations/Stand/Space & time/NAO/Left_Neutral_SAT_04',\n",
       " 'animations/Stand/Space & time/NAO/Center_Neutral_SAT_03',\n",
       " 'animations/Stand/Space & time/NAO/Center_Strong_SAT_01',\n",
       " 'animations/Stand/Space & time/NAO/Center_Slow_SAT_01',\n",
       " 'animations/Stand/Space & time/NAO/Left_Strong_SAT_01',\n",
       " 'animations/Stand/Space & time/NAO/Right_Neutral_SAT_03',\n",
       " 'animations/Stand/Space & time/NAO/Left_Strong_SAT_04',\n",
       " 'animations/Stand/Space & time/NAO/Left_Neutral_SAT_07',\n",
       " 'animations/Stand/Space & time/NAO/Left_Neutral_SAT_09',\n",
       " 'animations/Stand/Space & time/NAO/Left_Neutral_SAT_05',\n",
       " 'animations/Stand/Space & time/NAO/Right_Neutral_SAT_02',\n",
       " 'animations/Stand/Space & time/NAO/Right_Slow_SAT_01',\n",
       " 'animations/Stand/Space & time/NAO/Right_Neutral_SAT_01',\n",
       " 'animations/Stand/Space & time/NAO/Center_Neutral_SAT_02',\n",
       " 'animations/Stand/Space & time/NAO/Right_Neutral_SAT_09',\n",
       " 'animations/Stand/Space & time/NAO/Right_Neutral_SAT_07',\n",
       " 'animations/Stand/Space & time/NAO/Right_Strong_SAT_03',\n",
       " 'animations/Stand/Space & time/NAO/Right_Strong_SAT_05',\n",
       " 'animations/Stand/Space & time/NAO/Right_Neutral_SAT_10',\n",
       " 'animations/Stand/Space & time/NAO/Left_Neutral_SAT_02',\n",
       " 'animations/Stand/Space & time/NAO/Right_Neutral_SAT_06',\n",
       " 'animations/Stand/Space & time/NAO/Right_Strong_SAT_01',\n",
       " 'boot-config',\n",
       " 'boot-config/animations/onNextPage',\n",
       " 'boot-config/animations/onPrevPage',\n",
       " 'boot-config/animations/poseInit',\n",
       " 'boot-config/animations/ok',\n",
       " 'boot-config/animations/success',\n",
       " 'boot-config/animations/poseInitUp',\n",
       " 'boot-config/animations/turnTabletOn_end',\n",
       " 'boot-config/animations/turnTabletOn_start',\n",
       " 'boot-config/animations/warning',\n",
       " 'boot-config/animations/warningValidate',\n",
       " 'boot-config/animations/nok',\n",
       " 'boot-config/animations/updateLoop',\n",
       " 'boot-config/animations/updateOut',\n",
       " 'boot-config/animations/networkLoop',\n",
       " 'boot-config/animations/networkOut',\n",
       " 'boot-config/animations/inviteTablet',\n",
       " 'boot-config/animations/hello',\n",
       " 'boot-config/animations/updateFailed',\n",
       " 'boot-config/animations/finishWizard',\n",
       " 'boot-config/animations/onPlugged',\n",
       " 'boot-config/animations/onUnPlugged',\n",
       " 'boot-config/animations/shutdown',\n",
       " 'boot-config/animations/bipGentle',\n",
       " 'boot-config/animations/endReco',\n",
       " 'daps-bc/animations/failure_lfistbump',\n",
       " 'daps-bc/animations/failure_lhandshake',\n",
       " 'daps-bc/animations/failure_lhighfive',\n",
       " 'daps-bc/animations/failure_llowfive',\n",
       " 'daps-bc/animations/failure_rfistbump',\n",
       " 'daps-bc/animations/failure_rhandshake',\n",
       " 'daps-bc/animations/failure_rhighfive',\n",
       " 'daps-bc/animations/failure_rlowfive',\n",
       " 'daps-bc/animations/init_lfistbump',\n",
       " 'daps-bc/animations/init_lhandshake',\n",
       " 'daps-bc/animations/init_lhighfive',\n",
       " 'daps-bc/animations/init_llowfive',\n",
       " 'daps-bc/animations/init_rfistbump',\n",
       " 'daps-bc/animations/init_rhandshake',\n",
       " 'daps-bc/animations/init_rhighfive',\n",
       " 'daps-bc/animations/init_rlowfive',\n",
       " 'daps-bc/animations/success_lfistbump',\n",
       " 'daps-bc/animations/success_lhandshake',\n",
       " 'daps-bc/animations/success_lhighfive',\n",
       " 'daps-bc/animations/success_llowfive',\n",
       " 'daps-bc/animations/success_rfistbump',\n",
       " 'daps-bc/animations/success_rhandshake',\n",
       " 'daps-bc/animations/success_rhighfive',\n",
       " 'daps-bc/animations/success_rlowfive',\n",
       " 'daps-bc/animations/boom_sound',\n",
       " 'daps-bc/animations/init_hugr',\n",
       " 'daps-bc/animations/success_hugr',\n",
       " 'daps-bc/animations/failure_hugr',\n",
       " 'daps-bc/animations/failure_hugl',\n",
       " 'daps-bc/animations/init_hugl',\n",
       " 'daps-bc/animations/success_hugl',\n",
       " 'dialog_adjust_volume/behavior_1',\n",
       " 'dialog_engines/bhv_wake_up',\n",
       " 'dialog_engines/bhv_rest',\n",
       " 'dialog_hello/bhr_wave',\n",
       " 'dialog_hello/bhr_wave_2',\n",
       " 'dialog_humanoid_robot/behavior_1',\n",
       " 'dialog_impossible_moves/animations/CrossArms',\n",
       " 'dialog_impossible_moves/animations/TurnHead360',\n",
       " 'dialog_impossible_moves/animations/Backflip',\n",
       " 'dialog_impossible_moves/animations/Wave01',\n",
       " 'dialog_internet_connection/bhr_IP_adress',\n",
       " 'dialog_internet_connection/bhr_network_status',\n",
       " 'dialog_lexicon/behavior_1',\n",
       " 'dialog_move_arms/animations/StretchBothArms',\n",
       " 'dialog_move_arms/animations/StretchLArm',\n",
       " 'dialog_move_arms/animations/UpBothArms',\n",
       " 'dialog_move_arms/animations/UpLArm',\n",
       " 'dialog_move_arms/animations/UpRArm',\n",
       " 'dialog_move_arms/animations/StretchRArm',\n",
       " 'dialog_move_hands/animations/CloseBothHands',\n",
       " 'dialog_move_hands/animations/CloseLHand',\n",
       " 'dialog_move_hands/animations/CloseRHand',\n",
       " 'dialog_move_hands/animations/HandsBack',\n",
       " 'dialog_move_hands/animations/HandsOnEyes',\n",
       " 'dialog_move_hands/animations/OpenBothHands',\n",
       " 'dialog_move_hands/animations/OpenLHand',\n",
       " 'dialog_move_hands/animations/OpenRHand',\n",
       " 'dialog_move_hands/animations/UpBothArms',\n",
       " 'dialog_move_hands/animations/Wave01',\n",
       " 'dialog_move_head/animations/TurnHead360',\n",
       " 'dialog_move_head/animations/LookDown',\n",
       " 'dialog_move_head/animations/LookUp',\n",
       " 'dialog_move_head/animations/LookRight',\n",
       " 'dialog_move_head/animations/LookLeft',\n",
       " 'dialog_posture/bhv_crouch',\n",
       " 'dialog_posture/bhv_lie_down_back',\n",
       " 'dialog_posture/bhv_lie_down_belly',\n",
       " 'dialog_posture/bhv_sit_down',\n",
       " 'dialog_posture/bhv_stand_up',\n",
       " 'dialog_robot_capacity/behavior_1',\n",
       " 'dialog_robot_hardwares/behavior_1',\n",
       " 'dialog_robot_personality/behavior_1',\n",
       " 'dialog_shutdown/bhr_shutdown',\n",
       " 'dialog_shutdown/bhr_reboot',\n",
       " 'dialog_sing/behavior_1',\n",
       " 'dialog_stop_talking/animations/cant_talk1',\n",
       " 'dialog_stop_talking/animations/cant_talk2',\n",
       " 'dialog_stop_talking/animations/cant_talk3',\n",
       " 'dialog_store/show_tablet/Show_tablet_1',\n",
       " 'dialog_store/show_tablet/Show_tablet_2',\n",
       " 'dialog_store/show_tablet/Show_tablet_3',\n",
       " 'dialog_store/show_tablet/Show_tablet_4',\n",
       " 'dialog_store/show_tablet/Show_tablet_5',\n",
       " 'dialog_switch_language/bhr_switch_language',\n",
       " 'fall-recovery/recover',\n",
       " 'ht_cms_1_5/behavior_1',\n",
       " 'ht_event_app/behavior_1',\n",
       " 'run_dialog_dev',\n",
       " 'run_dialog_dev/init',\n",
       " 'sleep-reactions/Animations/Start_ShakeHead',\n",
       " 'sleep-reactions/Animations/End_ShakeHead',\n",
       " 'sleep-reactions/TouchHand',\n",
       " 'sleep-reactions/RandomHand',\n",
       " 'stay-relaxed-0355b7',\n",
       " 'untitled-98ab7e/behavior_1']"
      ]
     },
     "execution_count": 27,
     "metadata": {},
     "output_type": "execute_result"
    }
   ],
   "source": [
    "beha.getInstalledBehaviors()"
   ]
  },
  {
   "cell_type": "markdown",
   "metadata": {},
   "source": [
    "Um eine bestimmte Verhaltensweise auszuführen bzw. zu stoppen, wird der vollständige Name (Pfad) eines Behaviors in der Methode als Text übergeben.  \n",
    "Wichtig dabei ist, dass sich NAO auch in der passenden Posture befindet. "
   ]
  },
  {
   "cell_type": "code",
   "execution_count": 28,
   "metadata": {},
   "outputs": [
    {
     "data": {
      "text/plain": [
       "True"
      ]
     },
     "execution_count": 28,
     "metadata": {},
     "output_type": "execute_result"
    }
   ],
   "source": [
    "ropo.goToPosture(\"Sit\", 1.0)"
   ]
  },
  {
   "cell_type": "code",
   "execution_count": 29,
   "metadata": {},
   "outputs": [],
   "source": [
    "beha.runBehavior(\"animations/Sit/BodyTalk/Speaking/BodyTalk_7\")"
   ]
  },
  {
   "cell_type": "code",
   "execution_count": 30,
   "metadata": {},
   "outputs": [],
   "source": [
    "beha.stopBehavior(\"animations/Sit/BodyTalk/Speaking/BodyTalk_7\")"
   ]
  },
  {
   "cell_type": "markdown",
   "metadata": {},
   "source": [
    "In manchen Fällen kann es nützlich sein, alle laufenden Verhaltensweisen auf einmal zu beenden: "
   ]
  },
  {
   "cell_type": "code",
   "execution_count": 31,
   "metadata": {},
   "outputs": [],
   "source": [
    "beha.stopAllBehaviors()"
   ]
  },
  {
   "cell_type": "markdown",
   "metadata": {},
   "source": [
    "-----"
   ]
  },
  {
   "cell_type": "markdown",
   "metadata": {},
   "source": [
    "### Übung  \n",
    "\n",
    "Probieren Sie einige Behaviors aus der Excel-Liste aus.  \n",
    "Lassen Sie Ihre KollegInnen erraten, was NAO damit darstellen will. "
   ]
  },
  {
   "cell_type": "code",
   "execution_count": 32,
   "metadata": {},
   "outputs": [
    {
     "data": {
      "text/plain": [
       "True"
      ]
     },
     "execution_count": 32,
     "metadata": {},
     "output_type": "execute_result"
    }
   ],
   "source": [
    "ropo.goToPosture(\"Stand\", 1.0)"
   ]
  },
  {
   "cell_type": "code",
   "execution_count": 33,
   "metadata": {},
   "outputs": [],
   "source": [
    "beha.runBehavior(\"animations/Stand/Emotions/Negative/Angry_1\")"
   ]
  },
  {
   "cell_type": "code",
   "execution_count": null,
   "metadata": {},
   "outputs": [],
   "source": [
    "beha.runBehavior(\"...\")"
   ]
  },
  {
   "cell_type": "markdown",
   "metadata": {},
   "source": [
    "____"
   ]
  }
 ],
 "metadata": {
  "interpreter": {
   "hash": "c41245681b0c5dfdc198064911b7c792a0421ee2cbedc4ec4c9079156fd03e41"
  },
  "kernelspec": {
   "display_name": "Python 2.7.18 64-bit (system)",
   "language": "python",
   "name": "python3"
  },
  "language_info": {
   "codemirror_mode": {
    "name": "ipython",
    "version": 2
   },
   "file_extension": ".py",
   "mimetype": "text/x-python",
   "name": "python",
   "nbconvert_exporter": "python",
   "pygments_lexer": "ipython2",
   "version": "2.7.18"
  },
  "orig_nbformat": 4
 },
 "nbformat": 4,
 "nbformat_minor": 2
}
